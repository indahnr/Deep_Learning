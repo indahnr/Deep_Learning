{
  "nbformat": 4,
  "nbformat_minor": 0,
  "metadata": {
    "colab": {
      "name": "Week_05.ipynb",
      "provenance": [],
      "toc_visible": true,
      "authorship_tag": "ABX9TyP0TAApjlt17mRPUjsmnn2q",
      "include_colab_link": true
    },
    "kernelspec": {
      "name": "python3",
      "display_name": "Python 3"
    },
    "language_info": {
      "name": "python"
    },
    "accelerator": "GPU"
  },
  "cells": [
    {
      "cell_type": "markdown",
      "metadata": {
        "id": "view-in-github",
        "colab_type": "text"
      },
      "source": [
        "<a href=\"https://colab.research.google.com/github/indahnr/Deep_Learning/blob/main/Week_05.ipynb\" target=\"_parent\"><img src=\"https://colab.research.google.com/assets/colab-badge.svg\" alt=\"Open In Colab\"/></a>"
      ]
    },
    {
      "cell_type": "markdown",
      "source": [
        "#AlexNet"
      ],
      "metadata": {
        "id": "221p2MA-zeat"
      }
    },
    {
      "cell_type": "code",
      "source": [
        "!pip install tensorflow"
      ],
      "metadata": {
        "colab": {
          "base_uri": "https://localhost:8080/"
        },
        "id": "qTNTh8-BaPRC",
        "outputId": "ecbe736c-eaa4-43a7-e13e-11e28e8b3a91"
      },
      "execution_count": null,
      "outputs": [
        {
          "output_type": "stream",
          "name": "stdout",
          "text": [
            "Requirement already satisfied: tensorflow in /usr/local/lib/python3.7/dist-packages (2.8.0)\n",
            "Requirement already satisfied: gast>=0.2.1 in /usr/local/lib/python3.7/dist-packages (from tensorflow) (0.5.3)\n",
            "Requirement already satisfied: opt-einsum>=2.3.2 in /usr/local/lib/python3.7/dist-packages (from tensorflow) (3.3.0)\n",
            "Requirement already satisfied: tensorflow-io-gcs-filesystem>=0.23.1 in /usr/local/lib/python3.7/dist-packages (from tensorflow) (0.24.0)\n",
            "Requirement already satisfied: termcolor>=1.1.0 in /usr/local/lib/python3.7/dist-packages (from tensorflow) (1.1.0)\n",
            "Requirement already satisfied: keras<2.9,>=2.8.0rc0 in /usr/local/lib/python3.7/dist-packages (from tensorflow) (2.8.0)\n",
            "Requirement already satisfied: tensorboard<2.9,>=2.8 in /usr/local/lib/python3.7/dist-packages (from tensorflow) (2.8.0)\n",
            "Requirement already satisfied: astunparse>=1.6.0 in /usr/local/lib/python3.7/dist-packages (from tensorflow) (1.6.3)\n",
            "Requirement already satisfied: libclang>=9.0.1 in /usr/local/lib/python3.7/dist-packages (from tensorflow) (13.0.0)\n",
            "Requirement already satisfied: typing-extensions>=3.6.6 in /usr/local/lib/python3.7/dist-packages (from tensorflow) (3.10.0.2)\n",
            "Requirement already satisfied: flatbuffers>=1.12 in /usr/local/lib/python3.7/dist-packages (from tensorflow) (2.0)\n",
            "Requirement already satisfied: numpy>=1.20 in /usr/local/lib/python3.7/dist-packages (from tensorflow) (1.21.5)\n",
            "Requirement already satisfied: setuptools in /usr/local/lib/python3.7/dist-packages (from tensorflow) (57.4.0)\n",
            "Requirement already satisfied: wrapt>=1.11.0 in /usr/local/lib/python3.7/dist-packages (from tensorflow) (1.14.0)\n",
            "Requirement already satisfied: keras-preprocessing>=1.1.1 in /usr/local/lib/python3.7/dist-packages (from tensorflow) (1.1.2)\n",
            "Requirement already satisfied: protobuf>=3.9.2 in /usr/local/lib/python3.7/dist-packages (from tensorflow) (3.17.3)\n",
            "Requirement already satisfied: absl-py>=0.4.0 in /usr/local/lib/python3.7/dist-packages (from tensorflow) (1.0.0)\n",
            "Requirement already satisfied: h5py>=2.9.0 in /usr/local/lib/python3.7/dist-packages (from tensorflow) (3.1.0)\n",
            "Requirement already satisfied: six>=1.12.0 in /usr/local/lib/python3.7/dist-packages (from tensorflow) (1.15.0)\n",
            "Requirement already satisfied: google-pasta>=0.1.1 in /usr/local/lib/python3.7/dist-packages (from tensorflow) (0.2.0)\n",
            "Collecting tf-estimator-nightly==2.8.0.dev2021122109\n",
            "  Downloading tf_estimator_nightly-2.8.0.dev2021122109-py2.py3-none-any.whl (462 kB)\n",
            "\u001b[K     |████████████████████████████████| 462 kB 8.6 MB/s \n",
            "\u001b[?25hRequirement already satisfied: grpcio<2.0,>=1.24.3 in /usr/local/lib/python3.7/dist-packages (from tensorflow) (1.44.0)\n",
            "Requirement already satisfied: wheel<1.0,>=0.23.0 in /usr/local/lib/python3.7/dist-packages (from astunparse>=1.6.0->tensorflow) (0.37.1)\n",
            "Requirement already satisfied: cached-property in /usr/local/lib/python3.7/dist-packages (from h5py>=2.9.0->tensorflow) (1.5.2)\n",
            "Requirement already satisfied: requests<3,>=2.21.0 in /usr/local/lib/python3.7/dist-packages (from tensorboard<2.9,>=2.8->tensorflow) (2.23.0)\n",
            "Requirement already satisfied: markdown>=2.6.8 in /usr/local/lib/python3.7/dist-packages (from tensorboard<2.9,>=2.8->tensorflow) (3.3.6)\n",
            "Requirement already satisfied: google-auth<3,>=1.6.3 in /usr/local/lib/python3.7/dist-packages (from tensorboard<2.9,>=2.8->tensorflow) (1.35.0)\n",
            "Requirement already satisfied: tensorboard-plugin-wit>=1.6.0 in /usr/local/lib/python3.7/dist-packages (from tensorboard<2.9,>=2.8->tensorflow) (1.8.1)\n",
            "Requirement already satisfied: tensorboard-data-server<0.7.0,>=0.6.0 in /usr/local/lib/python3.7/dist-packages (from tensorboard<2.9,>=2.8->tensorflow) (0.6.1)\n",
            "Requirement already satisfied: werkzeug>=0.11.15 in /usr/local/lib/python3.7/dist-packages (from tensorboard<2.9,>=2.8->tensorflow) (1.0.1)\n",
            "Requirement already satisfied: google-auth-oauthlib<0.5,>=0.4.1 in /usr/local/lib/python3.7/dist-packages (from tensorboard<2.9,>=2.8->tensorflow) (0.4.6)\n",
            "Requirement already satisfied: cachetools<5.0,>=2.0.0 in /usr/local/lib/python3.7/dist-packages (from google-auth<3,>=1.6.3->tensorboard<2.9,>=2.8->tensorflow) (4.2.4)\n",
            "Requirement already satisfied: rsa<5,>=3.1.4 in /usr/local/lib/python3.7/dist-packages (from google-auth<3,>=1.6.3->tensorboard<2.9,>=2.8->tensorflow) (4.8)\n",
            "Requirement already satisfied: pyasn1-modules>=0.2.1 in /usr/local/lib/python3.7/dist-packages (from google-auth<3,>=1.6.3->tensorboard<2.9,>=2.8->tensorflow) (0.2.8)\n",
            "Requirement already satisfied: requests-oauthlib>=0.7.0 in /usr/local/lib/python3.7/dist-packages (from google-auth-oauthlib<0.5,>=0.4.1->tensorboard<2.9,>=2.8->tensorflow) (1.3.1)\n",
            "Requirement already satisfied: importlib-metadata>=4.4 in /usr/local/lib/python3.7/dist-packages (from markdown>=2.6.8->tensorboard<2.9,>=2.8->tensorflow) (4.11.3)\n",
            "Requirement already satisfied: zipp>=0.5 in /usr/local/lib/python3.7/dist-packages (from importlib-metadata>=4.4->markdown>=2.6.8->tensorboard<2.9,>=2.8->tensorflow) (3.7.0)\n",
            "Requirement already satisfied: pyasn1<0.5.0,>=0.4.6 in /usr/local/lib/python3.7/dist-packages (from pyasn1-modules>=0.2.1->google-auth<3,>=1.6.3->tensorboard<2.9,>=2.8->tensorflow) (0.4.8)\n",
            "Requirement already satisfied: idna<3,>=2.5 in /usr/local/lib/python3.7/dist-packages (from requests<3,>=2.21.0->tensorboard<2.9,>=2.8->tensorflow) (2.10)\n",
            "Requirement already satisfied: urllib3!=1.25.0,!=1.25.1,<1.26,>=1.21.1 in /usr/local/lib/python3.7/dist-packages (from requests<3,>=2.21.0->tensorboard<2.9,>=2.8->tensorflow) (1.24.3)\n",
            "Requirement already satisfied: certifi>=2017.4.17 in /usr/local/lib/python3.7/dist-packages (from requests<3,>=2.21.0->tensorboard<2.9,>=2.8->tensorflow) (2021.10.8)\n",
            "Requirement already satisfied: chardet<4,>=3.0.2 in /usr/local/lib/python3.7/dist-packages (from requests<3,>=2.21.0->tensorboard<2.9,>=2.8->tensorflow) (3.0.4)\n",
            "Requirement already satisfied: oauthlib>=3.0.0 in /usr/local/lib/python3.7/dist-packages (from requests-oauthlib>=0.7.0->google-auth-oauthlib<0.5,>=0.4.1->tensorboard<2.9,>=2.8->tensorflow) (3.2.0)\n",
            "Installing collected packages: tf-estimator-nightly\n",
            "Successfully installed tf-estimator-nightly-2.8.0.dev2021122109\n"
          ]
        }
      ]
    },
    {
      "cell_type": "code",
      "source": [
        "import tensorflow as tf\n",
        "import matplotlib.pyplot as plt\n",
        "from tensorflow.keras import datasets, layers, models, losses"
      ],
      "metadata": {
        "id": "KnvZQ5IZYM8E"
      },
      "execution_count": null,
      "outputs": []
    },
    {
      "cell_type": "markdown",
      "source": [
        "The Data"
      ],
      "metadata": {
        "id": "L-TqoSEw4qR0"
      }
    },
    {
      "cell_type": "code",
      "source": [
        "(x_train,y_train),(x_test,y_test) = datasets.mnist.load_data()\n",
        "x_train = tf.pad(x_train, [[0, 0], [2,2], [2,2]])/255\n",
        "x_test = tf.pad(x_test, [[0, 0], [2,2], [2,2]])/255\n",
        "x_train = tf.expand_dims(x_train, axis=3, name=None)\n",
        "x_test = tf.expand_dims(x_test, axis=3, name=None)\n",
        "x_train = tf.repeat(x_train, 3, axis=3)\n",
        "x_test = tf.repeat(x_test, 3, axis=3)\n",
        "x_val = x_train[-2000:,:,:,:]\n",
        "y_val = y_train[-2000:]\n",
        "x_train = x_train[:-2000,:,:,:]\n",
        "y_train = y_train[:-2000]"
      ],
      "metadata": {
        "colab": {
          "base_uri": "https://localhost:8080/"
        },
        "id": "Qtx1kICJYTbh",
        "outputId": "b43c803f-6a51-4d96-fd8e-f137d53226af"
      },
      "execution_count": null,
      "outputs": [
        {
          "output_type": "stream",
          "name": "stdout",
          "text": [
            "Downloading data from https://storage.googleapis.com/tensorflow/tf-keras-datasets/mnist.npz\n",
            "11493376/11490434 [==============================] - 0s 0us/step\n",
            "11501568/11490434 [==============================] - 0s 0us/step\n"
          ]
        }
      ]
    },
    {
      "cell_type": "markdown",
      "source": [
        "The Model"
      ],
      "metadata": {
        "id": "kheqP6Ux4wnj"
      }
    },
    {
      "cell_type": "code",
      "source": [
        "model = models.Sequential()\n",
        "model.add(layers.experimental.preprocessing.Resizing(224, 224, interpolation=\"bilinear\", input_shape=x_train.shape[1:]))\n",
        "model.add(layers.Conv2D(96, 11, strides=4, padding='same'))\n",
        "model.add(layers.Lambda(tf.nn.local_response_normalization))\n",
        "model.add(layers.Activation('relu'))\n",
        "model.add(layers.MaxPooling2D(3, strides=2))\n",
        "model.add(layers.Conv2D(256, 5, strides=4, padding='same'))\n",
        "model.add(layers.Lambda(tf.nn.local_response_normalization))\n",
        "model.add(layers.Activation('relu'))\n",
        "model.add(layers.MaxPooling2D(3, strides=2))\n",
        "model.add(layers.Conv2D(384, 3, strides=4, padding='same'))\n",
        "model.add(layers.Activation('relu'))\n",
        "model.add(layers.Conv2D(384, 3, strides=4, padding='same'))\n",
        "model.add(layers.Activation('relu'))\n",
        "model.add(layers.Conv2D(256, 3, strides=4, padding='same'))\n",
        "model.add(layers.Activation('relu'))\n",
        "model.add(layers.Flatten())\n",
        "model.add(layers.Dense(4096, activation='relu'))\n",
        "model.add(layers.Dropout(0.5))\n",
        "model.add(layers.Dense(4096, activation='relu'))\n",
        "model.add(layers.Dropout(0.5))\n",
        "model.add(layers.Dense(10, activation='softmax'))\n",
        "model.summary()"
      ],
      "metadata": {
        "id": "sncWcohtYTd4",
        "colab": {
          "base_uri": "https://localhost:8080/"
        },
        "outputId": "be08ba93-86d8-44b6-b37e-e4a4b6b60aca"
      },
      "execution_count": null,
      "outputs": [
        {
          "output_type": "stream",
          "name": "stdout",
          "text": [
            "Model: \"sequential\"\n",
            "_________________________________________________________________\n",
            " Layer (type)                Output Shape              Param #   \n",
            "=================================================================\n",
            " resizing (Resizing)         (None, 224, 224, 3)       0         \n",
            "                                                                 \n",
            " conv2d (Conv2D)             (None, 56, 56, 96)        34944     \n",
            "                                                                 \n",
            " lambda (Lambda)             (None, 56, 56, 96)        0         \n",
            "                                                                 \n",
            " activation (Activation)     (None, 56, 56, 96)        0         \n",
            "                                                                 \n",
            " max_pooling2d (MaxPooling2D  (None, 27, 27, 96)       0         \n",
            " )                                                               \n",
            "                                                                 \n",
            " conv2d_1 (Conv2D)           (None, 7, 7, 256)         614656    \n",
            "                                                                 \n",
            " lambda_1 (Lambda)           (None, 7, 7, 256)         0         \n",
            "                                                                 \n",
            " activation_1 (Activation)   (None, 7, 7, 256)         0         \n",
            "                                                                 \n",
            " max_pooling2d_1 (MaxPooling  (None, 3, 3, 256)        0         \n",
            " 2D)                                                             \n",
            "                                                                 \n",
            " conv2d_2 (Conv2D)           (None, 1, 1, 384)         885120    \n",
            "                                                                 \n",
            " activation_2 (Activation)   (None, 1, 1, 384)         0         \n",
            "                                                                 \n",
            " conv2d_3 (Conv2D)           (None, 1, 1, 384)         1327488   \n",
            "                                                                 \n",
            " activation_3 (Activation)   (None, 1, 1, 384)         0         \n",
            "                                                                 \n",
            " conv2d_4 (Conv2D)           (None, 1, 1, 256)         884992    \n",
            "                                                                 \n",
            " activation_4 (Activation)   (None, 1, 1, 256)         0         \n",
            "                                                                 \n",
            " flatten (Flatten)           (None, 256)               0         \n",
            "                                                                 \n",
            " dense (Dense)               (None, 4096)              1052672   \n",
            "                                                                 \n",
            " dropout (Dropout)           (None, 4096)              0         \n",
            "                                                                 \n",
            " dense_1 (Dense)             (None, 4096)              16781312  \n",
            "                                                                 \n",
            " dropout_1 (Dropout)         (None, 4096)              0         \n",
            "                                                                 \n",
            " dense_2 (Dense)             (None, 10)                40970     \n",
            "                                                                 \n",
            "=================================================================\n",
            "Total params: 21,622,154\n",
            "Trainable params: 21,622,154\n",
            "Non-trainable params: 0\n",
            "_________________________________________________________________\n"
          ]
        }
      ]
    },
    {
      "cell_type": "code",
      "source": [
        "model.compile(optimizer='adam',loss=losses.sparse_categorical_crossentropy,  metrics=['accuracy'])"
      ],
      "metadata": {
        "id": "sZ0S8ricaNTs"
      },
      "execution_count": null,
      "outputs": []
    },
    {
      "cell_type": "code",
      "source": [
        "history = model.fit(x_train, y_train,batch_size=64, epochs=40, validation_data=(x_val, y_val))"
      ],
      "metadata": {
        "colab": {
          "base_uri": "https://localhost:8080/"
        },
        "id": "FoGctNEDdwzq",
        "outputId": "aa0371c5-5158-4cb6-a6b4-9402a646e962"
      },
      "execution_count": null,
      "outputs": [
        {
          "output_type": "stream",
          "name": "stdout",
          "text": [
            "Epoch 1/40\n",
            "907/907 [==============================] - 204s 211ms/step - loss: 0.4545 - accuracy: 0.8367 - val_loss: 0.0873 - val_accuracy: 0.9805\n",
            "Epoch 2/40\n",
            "907/907 [==============================] - 190s 210ms/step - loss: 0.1031 - accuracy: 0.9739 - val_loss: 0.0875 - val_accuracy: 0.9790\n",
            "Epoch 3/40\n",
            "907/907 [==============================] - 190s 210ms/step - loss: 0.0778 - accuracy: 0.9798 - val_loss: 0.0911 - val_accuracy: 0.9810\n",
            "Epoch 4/40\n",
            "907/907 [==============================] - 190s 210ms/step - loss: 0.0675 - accuracy: 0.9828 - val_loss: 0.0390 - val_accuracy: 0.9905\n",
            "Epoch 5/40\n",
            "907/907 [==============================] - 190s 210ms/step - loss: 0.0490 - accuracy: 0.9878 - val_loss: 0.0339 - val_accuracy: 0.9910\n",
            "Epoch 6/40\n",
            "907/907 [==============================] - 190s 210ms/step - loss: 0.0494 - accuracy: 0.9875 - val_loss: 0.0466 - val_accuracy: 0.9900\n",
            "Epoch 7/40\n",
            "907/907 [==============================] - 190s 210ms/step - loss: 0.0421 - accuracy: 0.9887 - val_loss: 0.0471 - val_accuracy: 0.9910\n",
            "Epoch 8/40\n",
            "907/907 [==============================] - 190s 209ms/step - loss: 0.0366 - accuracy: 0.9907 - val_loss: 0.0602 - val_accuracy: 0.9885\n",
            "Epoch 9/40\n",
            "907/907 [==============================] - 190s 209ms/step - loss: 0.0308 - accuracy: 0.9924 - val_loss: 0.0513 - val_accuracy: 0.9905\n",
            "Epoch 10/40\n",
            "907/907 [==============================] - 190s 209ms/step - loss: 0.0299 - accuracy: 0.9922 - val_loss: 0.0446 - val_accuracy: 0.9895\n",
            "Epoch 11/40\n",
            "907/907 [==============================] - 190s 210ms/step - loss: 0.0280 - accuracy: 0.9930 - val_loss: 0.0489 - val_accuracy: 0.9945\n",
            "Epoch 12/40\n",
            "907/907 [==============================] - 190s 210ms/step - loss: 0.0246 - accuracy: 0.9941 - val_loss: 0.0507 - val_accuracy: 0.9935\n",
            "Epoch 13/40\n",
            "907/907 [==============================] - 190s 210ms/step - loss: 0.0265 - accuracy: 0.9934 - val_loss: 0.0470 - val_accuracy: 0.9925\n",
            "Epoch 14/40\n",
            "907/907 [==============================] - 190s 210ms/step - loss: 0.0193 - accuracy: 0.9953 - val_loss: 0.0543 - val_accuracy: 0.9900\n",
            "Epoch 15/40\n",
            "907/907 [==============================] - 190s 210ms/step - loss: 0.0202 - accuracy: 0.9952 - val_loss: 0.0597 - val_accuracy: 0.9900\n",
            "Epoch 16/40\n",
            "907/907 [==============================] - 190s 210ms/step - loss: 0.0235 - accuracy: 0.9946 - val_loss: 0.0646 - val_accuracy: 0.9905\n",
            "Epoch 17/40\n",
            "907/907 [==============================] - 190s 210ms/step - loss: 0.0202 - accuracy: 0.9952 - val_loss: 0.0436 - val_accuracy: 0.9935\n",
            "Epoch 18/40\n",
            "907/907 [==============================] - 190s 210ms/step - loss: 0.0205 - accuracy: 0.9953 - val_loss: 0.0422 - val_accuracy: 0.9920\n",
            "Epoch 19/40\n",
            "907/907 [==============================] - 190s 209ms/step - loss: 0.0174 - accuracy: 0.9962 - val_loss: 0.0501 - val_accuracy: 0.9935\n",
            "Epoch 20/40\n",
            "907/907 [==============================] - 190s 209ms/step - loss: 0.0169 - accuracy: 0.9962 - val_loss: 0.0574 - val_accuracy: 0.9905\n",
            "Epoch 21/40\n",
            "907/907 [==============================] - 190s 209ms/step - loss: 0.0158 - accuracy: 0.9964 - val_loss: 0.0495 - val_accuracy: 0.9930\n",
            "Epoch 22/40\n",
            "907/907 [==============================] - 190s 210ms/step - loss: 0.0206 - accuracy: 0.9955 - val_loss: 0.0706 - val_accuracy: 0.9925\n",
            "Epoch 23/40\n",
            "907/907 [==============================] - 191s 211ms/step - loss: 0.0106 - accuracy: 0.9978 - val_loss: 0.0899 - val_accuracy: 0.9925\n",
            "Epoch 24/40\n",
            "907/907 [==============================] - 190s 210ms/step - loss: 0.0132 - accuracy: 0.9972 - val_loss: 0.1305 - val_accuracy: 0.9905\n",
            "Epoch 25/40\n",
            "907/907 [==============================] - 190s 210ms/step - loss: 0.0141 - accuracy: 0.9972 - val_loss: 0.0773 - val_accuracy: 0.9900\n",
            "Epoch 26/40\n",
            "907/907 [==============================] - 190s 209ms/step - loss: 0.0102 - accuracy: 0.9977 - val_loss: 0.0915 - val_accuracy: 0.9925\n",
            "Epoch 27/40\n",
            "907/907 [==============================] - 191s 210ms/step - loss: 0.0161 - accuracy: 0.9964 - val_loss: 0.0508 - val_accuracy: 0.9930\n",
            "Epoch 28/40\n",
            "907/907 [==============================] - 193s 213ms/step - loss: 0.0150 - accuracy: 0.9972 - val_loss: 0.0923 - val_accuracy: 0.9920\n",
            "Epoch 29/40\n",
            "907/907 [==============================] - 192s 211ms/step - loss: 0.0127 - accuracy: 0.9974 - val_loss: 0.1000 - val_accuracy: 0.9910\n",
            "Epoch 30/40\n",
            "907/907 [==============================] - 191s 210ms/step - loss: 0.0142 - accuracy: 0.9970 - val_loss: 0.0763 - val_accuracy: 0.9920\n",
            "Epoch 31/40\n",
            "907/907 [==============================] - 190s 209ms/step - loss: 0.0122 - accuracy: 0.9975 - val_loss: 0.0930 - val_accuracy: 0.9890\n",
            "Epoch 32/40\n",
            "907/907 [==============================] - 190s 209ms/step - loss: 0.0091 - accuracy: 0.9979 - val_loss: 0.0638 - val_accuracy: 0.9905\n",
            "Epoch 33/40\n",
            "907/907 [==============================] - 190s 209ms/step - loss: 0.0130 - accuracy: 0.9974 - val_loss: 0.0558 - val_accuracy: 0.9905\n",
            "Epoch 34/40\n",
            "907/907 [==============================] - 189s 209ms/step - loss: 0.0091 - accuracy: 0.9982 - val_loss: 0.0718 - val_accuracy: 0.9930\n",
            "Epoch 35/40\n",
            "907/907 [==============================] - 189s 209ms/step - loss: 0.0142 - accuracy: 0.9978 - val_loss: 0.1573 - val_accuracy: 0.9910\n",
            "Epoch 36/40\n",
            "907/907 [==============================] - 190s 209ms/step - loss: 0.0083 - accuracy: 0.9983 - val_loss: 0.1056 - val_accuracy: 0.9900\n",
            "Epoch 37/40\n",
            "907/907 [==============================] - 191s 210ms/step - loss: 0.0088 - accuracy: 0.9986 - val_loss: 0.1179 - val_accuracy: 0.9910\n",
            "Epoch 38/40\n",
            "907/907 [==============================] - 190s 209ms/step - loss: 0.0101 - accuracy: 0.9980 - val_loss: 0.1161 - val_accuracy: 0.9900\n",
            "Epoch 39/40\n",
            "907/907 [==============================] - 189s 209ms/step - loss: 0.0191 - accuracy: 0.9964 - val_loss: 0.0680 - val_accuracy: 0.9925\n",
            "Epoch 40/40\n",
            "907/907 [==============================] - 189s 209ms/step - loss: 0.0139 - accuracy: 0.9976 - val_loss: 0.0892 - val_accuracy: 0.9905\n"
          ]
        }
      ]
    },
    {
      "cell_type": "code",
      "source": [
        "fig, axs = plt.subplots(2, 1, figsize=(15,15))\n",
        "axs[0].plot(history.history['loss'])\n",
        "axs[0].plot(history.history['val_loss'])\n",
        "axs[0].title.set_text('Training Loss vs Validation Loss')\n",
        "axs[0].set_xlabel('Epochs')\n",
        "axs[0].set_ylabel('Loss')\n",
        "axs[0].legend(['Train', 'Val'])\n",
        "axs[1].plot(history.history['accuracy'])\n",
        "axs[1].plot(history.history['val_accuracy'])\n",
        "axs[1].title.set_text('Training Accuracy vs Validation Accuracy')\n",
        "axs[1].set_xlabel('Epochs')\n",
        "axs[1].set_ylabel('Accuracy')\n",
        "axs[1].legend(['Train', 'Val'])"
      ],
      "metadata": {
        "id": "d0rPnhSYYTgb",
        "colab": {
          "base_uri": "https://localhost:8080/",
          "height": 910
        },
        "outputId": "10fceff9-bc8e-47d2-ed3e-ddbf65324cca"
      },
      "execution_count": null,
      "outputs": [
        {
          "output_type": "execute_result",
          "data": {
            "text/plain": [
              "<matplotlib.legend.Legend at 0x7efe905e6dd0>"
            ]
          },
          "metadata": {},
          "execution_count": 7
        },
        {
          "output_type": "display_data",
          "data": {
            "text/plain": [
              "<Figure size 1080x1080 with 2 Axes>"
            ],
            "image/png": "[encoded data removed]"
          },
          "metadata": {
            "needs_background": "light"
          }
        }
      ]
    },
    {
      "cell_type": "code",
      "source": [
        "model.evaluate(x_test, y_test)"
      ],
      "metadata": {
        "id": "jSEBQpeCYTkB",
        "colab": {
          "base_uri": "https://localhost:8080/"
        },
        "outputId": "af862dd4-5d88-43ec-a141-e3f8685a13e5"
      },
      "execution_count": null,
      "outputs": [
        {
          "output_type": "stream",
          "name": "stdout",
          "text": [
            "313/313 [==============================] - 14s 46ms/step - loss: 0.0798 - accuracy: 0.9877\n"
          ]
        },
        {
          "output_type": "execute_result",
          "data": {
            "text/plain": [
              "[0.07983048260211945, 0.9876999855041504]"
            ]
          },
          "metadata": {},
          "execution_count": 8
        }
      ]
    },
    {
      "cell_type": "markdown",
      "source": [
        "#VGG "
      ],
      "metadata": {
        "id": "kmlsoCpF2v2F"
      }
    },
    {
      "cell_type": "markdown",
      "source": [
        "Download Data"
      ],
      "metadata": {
        "id": "U7j1jSBR3xBE"
      }
    },
    {
      "cell_type": "code",
      "source": [
        "from __future__ import absolute_import, division, print_function\n",
        "from tqdm import tqdm\n",
        "from numpy.random import randn\n",
        "\n",
        "import pathlib\n",
        "import random\n",
        "import matplotlib.pyplot as plt\n",
        "\n",
        "import tensorflow as tf\n",
        "import numpy as np\n",
        "\n",
        "from matplotlib.image import imread\n",
        "from keras.preprocessing import image\n",
        "\n",
        "#tf.enable_eager_execution()\n",
        "import tensorflow.compat.v1 as tf\n",
        "tf.executing_eagerly()\n",
        "#tf.disable_v2_behavior()\n",
        "#tf.enable_eager_execution()\n",
        "\n",
        "AUTOTUNE = tf.data.experimental.AUTOTUNE\n",
        "\n",
        "data_dir = tf.keras.utils.get_file('flower_photos','https://storage.googleapis.com/download.tensorflow.org/example_images/flower_photos.tgz', untar=True)\n",
        "data_dir = pathlib.Path(data_dir)\n",
        "\n",
        "label_names={'daisy': 0, 'dandelion': 1, 'roses': 2, 'sunflowers': 3, 'tulips': 4}\n",
        "label_key=['daisy','dandelion','roses','sunflowers','tulips']"
      ],
      "metadata": {
        "colab": {
          "base_uri": "https://localhost:8080/"
        },
        "id": "wmDwaExsYeAh",
        "outputId": "d97a1475-3aa8-404e-aedf-a2e0a8cea267"
      },
      "execution_count": null,
      "outputs": [
        {
          "output_type": "stream",
          "name": "stdout",
          "text": [
            "Downloading data from https://storage.googleapis.com/download.tensorflow.org/example_images/flower_photos.tgz\n",
            "228818944/228813984 [==============================] - 3s 0us/step\n",
            "228827136/228813984 [==============================] - 3s 0us/step\n"
          ]
        }
      ]
    },
    {
      "cell_type": "markdown",
      "source": [
        "Load images with tf.data"
      ],
      "metadata": {
        "id": "8-R0Hd7037As"
      }
    },
    {
      "cell_type": "code",
      "source": [
        "all_images = list(data_dir.glob('*/*'))\n",
        "all_images = [str(path) for path in all_images]\n",
        "random.shuffle(all_images)\n",
        "\n",
        "all_labels=[label_names[pathlib.Path(path).parent.name] for path in all_images]\n",
        "\n",
        "data_size=len(all_images)\n",
        "\n",
        "train_test_split=(int)(data_size*0.2)\n",
        "\n",
        "x_train=all_images[train_test_split:]\n",
        "x_test=all_images[:train_test_split]\n",
        "y_train=all_labels[train_test_split:]\n",
        "y_test=all_labels[:train_test_split]\n",
        "\n",
        "IMG_SIZE=160\n",
        "\n",
        "BATCH_SIZE = 32\n",
        "\n",
        "def _parse_data(x,y):\n",
        "  image = tf.read_file(x)\n",
        "  image = tf.image.decode_jpeg(image, channels=3)\n",
        "  image = tf.cast(image, tf.float32)\n",
        "  image = (image/127.5) - 1\n",
        "  image = tf.image.resize(image, (IMG_SIZE, IMG_SIZE))\n",
        " \n",
        "  return image,y\n",
        "\n",
        "def _input_fn(x,y):\n",
        "  ds=tf.data.Dataset.from_tensor_slices((x,y))\n",
        "  ds=ds.map(_parse_data)\n",
        "  ds=ds.shuffle(buffer_size=data_size)\n",
        "  \n",
        "  \n",
        "  ds = ds.repeat()\n",
        "  \n",
        "  ds = ds.batch(BATCH_SIZE)\n",
        "  \n",
        "  ds = ds.prefetch(buffer_size=AUTOTUNE)\n",
        "  \n",
        "  return ds\n",
        "  \n",
        "train_ds=_input_fn(x_train,y_train)\n",
        "validation_ds=_input_fn(x_test,y_test)"
      ],
      "metadata": {
        "id": "pKzH02O4YeD3"
      },
      "execution_count": null,
      "outputs": []
    },
    {
      "cell_type": "markdown",
      "source": [
        "Create the base model from VGG16 trained convnets"
      ],
      "metadata": {
        "id": "n8RvlY_d4B-S"
      }
    },
    {
      "cell_type": "code",
      "source": [
        "IMG_SHAPE = (IMG_SIZE, IMG_SIZE, 3)\n",
        "VGG16_MODEL=tf.keras.applications.VGG16(input_shape=IMG_SHAPE,\n",
        "                                               include_top=False,\n",
        "                                               weights='imagenet')"
      ],
      "metadata": {
        "colab": {
          "base_uri": "https://localhost:8080/"
        },
        "id": "tYU6VdnwYw0x",
        "outputId": "8235a438-60b9-4825-8eee-f597d6d6e7be"
      },
      "execution_count": null,
      "outputs": [
        {
          "output_type": "stream",
          "name": "stdout",
          "text": [
            "Downloading data from https://storage.googleapis.com/tensorflow/keras-applications/vgg16/vgg16_weights_tf_dim_ordering_tf_kernels_notop.h5\n",
            "58892288/58889256 [==============================] - 2s 0us/step\n",
            "58900480/58889256 [==============================] - 2s 0us/step\n"
          ]
        }
      ]
    },
    {
      "cell_type": "code",
      "source": [
        "VGG16_MODEL.trainable=False\n",
        "global_average_layer = tf.keras.layers.GlobalAveragePooling2D()\n",
        "prediction_layer = tf.keras.layers.Dense(len(label_names),activation='softmax')"
      ],
      "metadata": {
        "id": "ASLRK5b3YNUK"
      },
      "execution_count": null,
      "outputs": []
    },
    {
      "cell_type": "code",
      "source": [
        "model = tf.keras.Sequential([\n",
        "  VGG16_MODEL,\n",
        "  global_average_layer,\n",
        "  prediction_layer\n",
        "])"
      ],
      "metadata": {
        "id": "ncwUcE8pY07t"
      },
      "execution_count": null,
      "outputs": []
    },
    {
      "cell_type": "markdown",
      "source": [
        "Compile the model"
      ],
      "metadata": {
        "id": "cLaUz2ox4Jqx"
      }
    },
    {
      "cell_type": "code",
      "source": [
        "model.compile(optimizer=tf.train.AdamOptimizer(), \n",
        "              loss=tf.keras.losses.sparse_categorical_crossentropy,\n",
        "              metrics=[\"accuracy\"])"
      ],
      "metadata": {
        "id": "wGp7LVVVY864"
      },
      "execution_count": null,
      "outputs": []
    },
    {
      "cell_type": "markdown",
      "source": [
        "Train the model"
      ],
      "metadata": {
        "id": "cFgleESn4O7q"
      }
    },
    {
      "cell_type": "code",
      "source": [
        "history = model.fit(train_ds,\n",
        "                    epochs=100, \n",
        "                    steps_per_epoch=2,\n",
        "                    validation_steps=2,\n",
        "                    validation_data=validation_ds)"
      ],
      "metadata": {
        "colab": {
          "base_uri": "https://localhost:8080/"
        },
        "id": "zKSShetYY9Pe",
        "outputId": "f25d880d-9768-45c3-edb5-da818f881b94"
      },
      "execution_count": null,
      "outputs": [
        {
          "output_type": "stream",
          "name": "stdout",
          "text": [
            "Train on 2 steps, validate on 2 steps\n",
            "Epoch 1/100\n",
            "2/2 [==============================] - ETA: 0s - batch: 0.5000 - size: 1.0000 - loss: 1.7994 - acc: 0.2500     "
          ]
        },
        {
          "output_type": "stream",
          "name": "stderr",
          "text": [
            "/usr/local/lib/python3.7/dist-packages/keras/engine/training_v1.py:2057: UserWarning: `Model.state_updates` will be removed in a future version. This property should not be used in TensorFlow 2.0, as `updates` are applied automatically.\n",
            "  updates = self.state_updates\n"
          ]
        },
        {
          "output_type": "stream",
          "name": "stdout",
          "text": [
            "\b\b\b\b\b\b\b\b\b\b\b\b\b\b\b\b\b\b\b\b\b\b\b\b\b\b\b\b\b\b\b\b\b\b\b\b\b\b\b\b\b\b\b\b\b\b\b\b\b\b\b\b\b\b\b\b\b\b\b\b\b\b\b\b\b\b\b\b\b\b\b\b\b\b\b\b\b\b\b\b\b\b\b\b\b\b\b\b\b\b\b\b\b\b\b\b\b\b\b\b\b\b\b\b\b\b\r2/2 [==============================] - 18s 5s/step - batch: 0.5000 - size: 1.0000 - loss: 1.7994 - acc: 0.2500 - val_loss: 1.8841 - val_acc: 0.1562\n",
            "Epoch 2/100\n",
            "2/2 [==============================] - 5s 5s/step - batch: 0.5000 - size: 1.0000 - loss: 1.8389 - acc: 0.2188 - val_loss: 1.7328 - val_acc: 0.1719\n",
            "Epoch 3/100\n",
            "2/2 [==============================] - 5s 5s/step - batch: 0.5000 - size: 1.0000 - loss: 1.6504 - acc: 0.3125 - val_loss: 1.6721 - val_acc: 0.1719\n",
            "Epoch 4/100\n",
            "2/2 [==============================] - 5s 5s/step - batch: 0.5000 - size: 1.0000 - loss: 1.7395 - acc: 0.1562 - val_loss: 1.5922 - val_acc: 0.2656\n",
            "Epoch 5/100\n",
            "2/2 [==============================] - 5s 5s/step - batch: 0.5000 - size: 1.0000 - loss: 1.6654 - acc: 0.2188 - val_loss: 1.5595 - val_acc: 0.2812\n",
            "Epoch 6/100\n",
            "2/2 [==============================] - 5s 5s/step - batch: 0.5000 - size: 1.0000 - loss: 1.6216 - acc: 0.1875 - val_loss: 1.5765 - val_acc: 0.2344\n",
            "Epoch 7/100\n",
            "2/2 [==============================] - 5s 5s/step - batch: 0.5000 - size: 1.0000 - loss: 1.6453 - acc: 0.1719 - val_loss: 1.5929 - val_acc: 0.1719\n",
            "Epoch 8/100\n",
            "2/2 [==============================] - 5s 5s/step - batch: 0.5000 - size: 1.0000 - loss: 1.5880 - acc: 0.2344 - val_loss: 1.5714 - val_acc: 0.2500\n",
            "Epoch 9/100\n",
            "2/2 [==============================] - 4s 4s/step - batch: 0.5000 - size: 1.0000 - loss: 1.5884 - acc: 0.2500 - val_loss: 1.5701 - val_acc: 0.2969\n",
            "Epoch 10/100\n",
            "2/2 [==============================] - 5s 4s/step - batch: 0.5000 - size: 1.0000 - loss: 1.5588 - acc: 0.2969 - val_loss: 1.5279 - val_acc: 0.3438\n",
            "Epoch 11/100\n",
            "2/2 [==============================] - 5s 4s/step - batch: 0.5000 - size: 1.0000 - loss: 1.5621 - acc: 0.2500 - val_loss: 1.5981 - val_acc: 0.2656\n",
            "Epoch 12/100\n",
            "2/2 [==============================] - 5s 4s/step - batch: 0.5000 - size: 1.0000 - loss: 1.4972 - acc: 0.3594 - val_loss: 1.5619 - val_acc: 0.2344\n",
            "Epoch 13/100\n",
            "2/2 [==============================] - 5s 5s/step - batch: 0.5000 - size: 1.0000 - loss: 1.5163 - acc: 0.3906 - val_loss: 1.5010 - val_acc: 0.3594\n",
            "Epoch 14/100\n",
            "2/2 [==============================] - 4s 4s/step - batch: 0.5000 - size: 1.0000 - loss: 1.5052 - acc: 0.3750 - val_loss: 1.4516 - val_acc: 0.4844\n",
            "Epoch 15/100\n",
            "2/2 [==============================] - 5s 4s/step - batch: 0.5000 - size: 1.0000 - loss: 1.5265 - acc: 0.3281 - val_loss: 1.4988 - val_acc: 0.4219\n",
            "Epoch 16/100\n",
            "2/2 [==============================] - 5s 4s/step - batch: 0.5000 - size: 1.0000 - loss: 1.5032 - acc: 0.3750 - val_loss: 1.4184 - val_acc: 0.5469\n",
            "Epoch 17/100\n",
            "2/2 [==============================] - 5s 5s/step - batch: 0.5000 - size: 1.0000 - loss: 1.4603 - acc: 0.4375 - val_loss: 1.4594 - val_acc: 0.4844\n",
            "Epoch 18/100\n",
            "2/2 [==============================] - 5s 5s/step - batch: 0.5000 - size: 1.0000 - loss: 1.4447 - acc: 0.5312 - val_loss: 1.3985 - val_acc: 0.5000\n",
            "Epoch 19/100\n",
            "2/2 [==============================] - 5s 5s/step - batch: 0.5000 - size: 1.0000 - loss: 1.4528 - acc: 0.3594 - val_loss: 1.4510 - val_acc: 0.4688\n",
            "Epoch 20/100\n",
            "2/2 [==============================] - 5s 5s/step - batch: 0.5000 - size: 1.0000 - loss: 1.4902 - acc: 0.3594 - val_loss: 1.3998 - val_acc: 0.5625\n",
            "Epoch 21/100\n",
            "2/2 [==============================] - 5s 5s/step - batch: 0.5000 - size: 1.0000 - loss: 1.4539 - acc: 0.5312 - val_loss: 1.3583 - val_acc: 0.5312\n",
            "Epoch 22/100\n",
            "2/2 [==============================] - 5s 5s/step - batch: 0.5000 - size: 1.0000 - loss: 1.4299 - acc: 0.4531 - val_loss: 1.3707 - val_acc: 0.5938\n",
            "Epoch 23/100\n",
            "2/2 [==============================] - 5s 5s/step - batch: 0.5000 - size: 1.0000 - loss: 1.3766 - acc: 0.5469 - val_loss: 1.3918 - val_acc: 0.5938\n",
            "Epoch 24/100\n",
            "2/2 [==============================] - 5s 5s/step - batch: 0.5000 - size: 1.0000 - loss: 1.3946 - acc: 0.5000 - val_loss: 1.3656 - val_acc: 0.6562\n",
            "Epoch 25/100\n",
            "2/2 [==============================] - 6s 6s/step - batch: 0.5000 - size: 1.0000 - loss: 1.4000 - acc: 0.5156 - val_loss: 1.3566 - val_acc: 0.5781\n",
            "Epoch 26/100\n",
            "2/2 [==============================] - 4s 4s/step - batch: 0.5000 - size: 1.0000 - loss: 1.4210 - acc: 0.4531 - val_loss: 1.3416 - val_acc: 0.6250\n",
            "Epoch 27/100\n",
            "2/2 [==============================] - 5s 5s/step - batch: 0.5000 - size: 1.0000 - loss: 1.3458 - acc: 0.5000 - val_loss: 1.3616 - val_acc: 0.5312\n",
            "Epoch 28/100\n",
            "2/2 [==============================] - 5s 5s/step - batch: 0.5000 - size: 1.0000 - loss: 1.3597 - acc: 0.6094 - val_loss: 1.3586 - val_acc: 0.5781\n",
            "Epoch 29/100\n",
            "2/2 [==============================] - 5s 5s/step - batch: 0.5000 - size: 1.0000 - loss: 1.3601 - acc: 0.5156 - val_loss: 1.2876 - val_acc: 0.6250\n",
            "Epoch 30/100\n",
            "2/2 [==============================] - 5s 5s/step - batch: 0.5000 - size: 1.0000 - loss: 1.3227 - acc: 0.5156 - val_loss: 1.3268 - val_acc: 0.5625\n",
            "Epoch 31/100\n",
            "2/2 [==============================] - 5s 4s/step - batch: 0.5000 - size: 1.0000 - loss: 1.3799 - acc: 0.5312 - val_loss: 1.2955 - val_acc: 0.6094\n",
            "Epoch 32/100\n",
            "2/2 [==============================] - 5s 5s/step - batch: 0.5000 - size: 1.0000 - loss: 1.2629 - acc: 0.6250 - val_loss: 1.3027 - val_acc: 0.5938\n",
            "Epoch 33/100\n",
            "2/2 [==============================] - 5s 5s/step - batch: 0.5000 - size: 1.0000 - loss: 1.3384 - acc: 0.5938 - val_loss: 1.2903 - val_acc: 0.5938\n",
            "Epoch 34/100\n",
            "2/2 [==============================] - 5s 5s/step - batch: 0.5000 - size: 1.0000 - loss: 1.3999 - acc: 0.3906 - val_loss: 1.1927 - val_acc: 0.7500\n",
            "Epoch 35/100\n",
            "2/2 [==============================] - 5s 5s/step - batch: 0.5000 - size: 1.0000 - loss: 1.3065 - acc: 0.4688 - val_loss: 1.2839 - val_acc: 0.5938\n",
            "Epoch 36/100\n",
            "2/2 [==============================] - 4s 4s/step - batch: 0.5000 - size: 1.0000 - loss: 1.2678 - acc: 0.5469 - val_loss: 1.2812 - val_acc: 0.5469\n",
            "Epoch 37/100\n",
            "2/2 [==============================] - 5s 4s/step - batch: 0.5000 - size: 1.0000 - loss: 1.3285 - acc: 0.5312 - val_loss: 1.2945 - val_acc: 0.5312\n",
            "Epoch 38/100\n",
            "2/2 [==============================] - 5s 4s/step - batch: 0.5000 - size: 1.0000 - loss: 1.2122 - acc: 0.5625 - val_loss: 1.2436 - val_acc: 0.6250\n",
            "Epoch 39/100\n",
            "2/2 [==============================] - 5s 5s/step - batch: 0.5000 - size: 1.0000 - loss: 1.2719 - acc: 0.5938 - val_loss: 1.3159 - val_acc: 0.5312\n",
            "Epoch 40/100\n",
            "2/2 [==============================] - 5s 4s/step - batch: 0.5000 - size: 1.0000 - loss: 1.2530 - acc: 0.5781 - val_loss: 1.1788 - val_acc: 0.6562\n",
            "Epoch 41/100\n",
            "2/2 [==============================] - 5s 5s/step - batch: 0.5000 - size: 1.0000 - loss: 1.2270 - acc: 0.6562 - val_loss: 1.2026 - val_acc: 0.6719\n",
            "Epoch 42/100\n",
            "2/2 [==============================] - 5s 5s/step - batch: 0.5000 - size: 1.0000 - loss: 1.2443 - acc: 0.5938 - val_loss: 1.2758 - val_acc: 0.5312\n",
            "Epoch 43/100\n",
            "2/2 [==============================] - 5s 5s/step - batch: 0.5000 - size: 1.0000 - loss: 1.2132 - acc: 0.5938 - val_loss: 1.2440 - val_acc: 0.6250\n",
            "Epoch 44/100\n",
            "2/2 [==============================] - 5s 5s/step - batch: 0.5000 - size: 1.0000 - loss: 1.2037 - acc: 0.7031 - val_loss: 1.2128 - val_acc: 0.6094\n",
            "Epoch 45/100\n",
            "2/2 [==============================] - 5s 5s/step - batch: 0.5000 - size: 1.0000 - loss: 1.2016 - acc: 0.6875 - val_loss: 1.1924 - val_acc: 0.6719\n",
            "Epoch 46/100\n",
            "2/2 [==============================] - 5s 5s/step - batch: 0.5000 - size: 1.0000 - loss: 1.1025 - acc: 0.7188 - val_loss: 1.2106 - val_acc: 0.6562\n",
            "Epoch 47/100\n",
            "2/2 [==============================] - 5s 5s/step - batch: 0.5000 - size: 1.0000 - loss: 1.1374 - acc: 0.6719 - val_loss: 1.1822 - val_acc: 0.6406\n",
            "Epoch 48/100\n",
            "2/2 [==============================] - 5s 4s/step - batch: 0.5000 - size: 1.0000 - loss: 1.2154 - acc: 0.5625 - val_loss: 1.1832 - val_acc: 0.6719\n",
            "Epoch 49/100\n",
            "2/2 [==============================] - 5s 5s/step - batch: 0.5000 - size: 1.0000 - loss: 1.0925 - acc: 0.7031 - val_loss: 1.1862 - val_acc: 0.6562\n",
            "Epoch 50/100\n",
            "2/2 [==============================] - 5s 4s/step - batch: 0.5000 - size: 1.0000 - loss: 1.1146 - acc: 0.7500 - val_loss: 1.1620 - val_acc: 0.6406\n",
            "Epoch 51/100\n",
            "2/2 [==============================] - 5s 4s/step - batch: 0.5000 - size: 1.0000 - loss: 1.2252 - acc: 0.5938 - val_loss: 1.2576 - val_acc: 0.5781\n",
            "Epoch 52/100\n",
            "2/2 [==============================] - 4s 4s/step - batch: 0.5000 - size: 1.0000 - loss: 1.1267 - acc: 0.6875 - val_loss: 1.1139 - val_acc: 0.7031\n",
            "Epoch 53/100\n",
            "2/2 [==============================] - 5s 4s/step - batch: 0.5000 - size: 1.0000 - loss: 1.0088 - acc: 0.7500 - val_loss: 1.1573 - val_acc: 0.6250\n",
            "Epoch 54/100\n",
            "2/2 [==============================] - 5s 4s/step - batch: 0.5000 - size: 1.0000 - loss: 1.1623 - acc: 0.6562 - val_loss: 1.0948 - val_acc: 0.7031\n",
            "Epoch 55/100\n",
            "2/2 [==============================] - 5s 5s/step - batch: 0.5000 - size: 1.0000 - loss: 1.1693 - acc: 0.6094 - val_loss: 1.1771 - val_acc: 0.6250\n",
            "Epoch 56/100\n",
            "2/2 [==============================] - 5s 4s/step - batch: 0.5000 - size: 1.0000 - loss: 1.2345 - acc: 0.5469 - val_loss: 1.1671 - val_acc: 0.6719\n",
            "Epoch 57/100\n",
            "2/2 [==============================] - 5s 5s/step - batch: 0.5000 - size: 1.0000 - loss: 1.0541 - acc: 0.7500 - val_loss: 1.1193 - val_acc: 0.7031\n",
            "Epoch 58/100\n",
            "2/2 [==============================] - 5s 4s/step - batch: 0.5000 - size: 1.0000 - loss: 1.1437 - acc: 0.6562 - val_loss: 1.0595 - val_acc: 0.7031\n",
            "Epoch 59/100\n",
            "2/2 [==============================] - 5s 5s/step - batch: 0.5000 - size: 1.0000 - loss: 1.1166 - acc: 0.6250 - val_loss: 1.0748 - val_acc: 0.7031\n",
            "Epoch 60/100\n",
            "2/2 [==============================] - 5s 4s/step - batch: 0.5000 - size: 1.0000 - loss: 1.0223 - acc: 0.8125 - val_loss: 1.0681 - val_acc: 0.7188\n",
            "Epoch 61/100\n",
            "2/2 [==============================] - 5s 5s/step - batch: 0.5000 - size: 1.0000 - loss: 1.1187 - acc: 0.7031 - val_loss: 1.0485 - val_acc: 0.7188\n",
            "Epoch 62/100\n",
            "2/2 [==============================] - 5s 4s/step - batch: 0.5000 - size: 1.0000 - loss: 1.1767 - acc: 0.5938 - val_loss: 0.9994 - val_acc: 0.7812\n",
            "Epoch 63/100\n",
            "2/2 [==============================] - 5s 5s/step - batch: 0.5000 - size: 1.0000 - loss: 1.1382 - acc: 0.6094 - val_loss: 1.1541 - val_acc: 0.6719\n",
            "Epoch 64/100\n",
            "2/2 [==============================] - 5s 5s/step - batch: 0.5000 - size: 1.0000 - loss: 1.0638 - acc: 0.7344 - val_loss: 1.1067 - val_acc: 0.6406\n",
            "Epoch 65/100\n",
            "2/2 [==============================] - 5s 5s/step - batch: 0.5000 - size: 1.0000 - loss: 1.1884 - acc: 0.5469 - val_loss: 1.0779 - val_acc: 0.6250\n",
            "Epoch 66/100\n",
            "2/2 [==============================] - 5s 5s/step - batch: 0.5000 - size: 1.0000 - loss: 1.0276 - acc: 0.7188 - val_loss: 1.0353 - val_acc: 0.7656\n",
            "Epoch 67/100\n",
            "2/2 [==============================] - 5s 5s/step - batch: 0.5000 - size: 1.0000 - loss: 1.0224 - acc: 0.6719 - val_loss: 1.1140 - val_acc: 0.6562\n",
            "Epoch 68/100\n",
            "2/2 [==============================] - 5s 5s/step - batch: 0.5000 - size: 1.0000 - loss: 1.0552 - acc: 0.7031 - val_loss: 1.0920 - val_acc: 0.6406\n",
            "Epoch 69/100\n",
            "2/2 [==============================] - 5s 4s/step - batch: 0.5000 - size: 1.0000 - loss: 1.0637 - acc: 0.7500 - val_loss: 1.1824 - val_acc: 0.5625\n",
            "Epoch 70/100\n",
            "2/2 [==============================] - 5s 4s/step - batch: 0.5000 - size: 1.0000 - loss: 0.9906 - acc: 0.7656 - val_loss: 1.0461 - val_acc: 0.7344\n",
            "Epoch 71/100\n",
            "2/2 [==============================] - 5s 5s/step - batch: 0.5000 - size: 1.0000 - loss: 1.1081 - acc: 0.6719 - val_loss: 1.0262 - val_acc: 0.7188\n",
            "Epoch 72/100\n",
            "2/2 [==============================] - 5s 4s/step - batch: 0.5000 - size: 1.0000 - loss: 1.1206 - acc: 0.6719 - val_loss: 1.0969 - val_acc: 0.6562\n",
            "Epoch 73/100\n",
            "2/2 [==============================] - 5s 4s/step - batch: 0.5000 - size: 1.0000 - loss: 1.0336 - acc: 0.7500 - val_loss: 1.0291 - val_acc: 0.7344\n",
            "Epoch 74/100\n",
            "2/2 [==============================] - 4s 4s/step - batch: 0.5000 - size: 1.0000 - loss: 1.0291 - acc: 0.7031 - val_loss: 1.1308 - val_acc: 0.6406\n",
            "Epoch 75/100\n",
            "2/2 [==============================] - 5s 4s/step - batch: 0.5000 - size: 1.0000 - loss: 1.0493 - acc: 0.7031 - val_loss: 0.9571 - val_acc: 0.7969\n",
            "Epoch 76/100\n",
            "2/2 [==============================] - 5s 5s/step - batch: 0.5000 - size: 1.0000 - loss: 1.1110 - acc: 0.6250 - val_loss: 0.9845 - val_acc: 0.7188\n",
            "Epoch 77/100\n",
            "2/2 [==============================] - 5s 5s/step - batch: 0.5000 - size: 1.0000 - loss: 1.0214 - acc: 0.7344 - val_loss: 0.9942 - val_acc: 0.7344\n",
            "Epoch 78/100\n",
            "2/2 [==============================] - 5s 5s/step - batch: 0.5000 - size: 1.0000 - loss: 0.9573 - acc: 0.7656 - val_loss: 1.0116 - val_acc: 0.7344\n",
            "Epoch 79/100\n",
            "2/2 [==============================] - 4s 4s/step - batch: 0.5000 - size: 1.0000 - loss: 0.9497 - acc: 0.6875 - val_loss: 1.0600 - val_acc: 0.7500\n",
            "Epoch 80/100\n",
            "2/2 [==============================] - 5s 4s/step - batch: 0.5000 - size: 1.0000 - loss: 1.1294 - acc: 0.6094 - val_loss: 1.1122 - val_acc: 0.6094\n",
            "Epoch 81/100\n",
            "2/2 [==============================] - 5s 4s/step - batch: 0.5000 - size: 1.0000 - loss: 1.0125 - acc: 0.7031 - val_loss: 1.0215 - val_acc: 0.7031\n",
            "Epoch 82/100\n",
            "2/2 [==============================] - 5s 5s/step - batch: 0.5000 - size: 1.0000 - loss: 1.0453 - acc: 0.6406 - val_loss: 0.9742 - val_acc: 0.7500\n",
            "Epoch 83/100\n",
            "2/2 [==============================] - 5s 5s/step - batch: 0.5000 - size: 1.0000 - loss: 0.9752 - acc: 0.7500 - val_loss: 1.0396 - val_acc: 0.7344\n",
            "Epoch 84/100\n",
            "2/2 [==============================] - 5s 5s/step - batch: 0.5000 - size: 1.0000 - loss: 1.0101 - acc: 0.7031 - val_loss: 0.9916 - val_acc: 0.7344\n",
            "Epoch 85/100\n",
            "2/2 [==============================] - 5s 4s/step - batch: 0.5000 - size: 1.0000 - loss: 1.0403 - acc: 0.6719 - val_loss: 0.9272 - val_acc: 0.7500\n",
            "Epoch 86/100\n",
            "2/2 [==============================] - 5s 5s/step - batch: 0.5000 - size: 1.0000 - loss: 0.9738 - acc: 0.7188 - val_loss: 0.9652 - val_acc: 0.7500\n",
            "Epoch 87/100\n",
            "2/2 [==============================] - 5s 5s/step - batch: 0.5000 - size: 1.0000 - loss: 0.9286 - acc: 0.7500 - val_loss: 0.9497 - val_acc: 0.7344\n",
            "Epoch 88/100\n",
            "2/2 [==============================] - 5s 5s/step - batch: 0.5000 - size: 1.0000 - loss: 0.9753 - acc: 0.7656 - val_loss: 1.0348 - val_acc: 0.7031\n",
            "Epoch 89/100\n",
            "2/2 [==============================] - 5s 5s/step - batch: 0.5000 - size: 1.0000 - loss: 0.9838 - acc: 0.7344 - val_loss: 0.9646 - val_acc: 0.7188\n",
            "Epoch 90/100\n",
            "2/2 [==============================] - 5s 5s/step - batch: 0.5000 - size: 1.0000 - loss: 0.9736 - acc: 0.7188 - val_loss: 0.9085 - val_acc: 0.8438\n",
            "Epoch 91/100\n",
            "2/2 [==============================] - 5s 5s/step - batch: 0.5000 - size: 1.0000 - loss: 1.0110 - acc: 0.6719 - val_loss: 0.9542 - val_acc: 0.7188\n",
            "Epoch 92/100\n",
            "2/2 [==============================] - 5s 5s/step - batch: 0.5000 - size: 1.0000 - loss: 0.9865 - acc: 0.7188 - val_loss: 0.8738 - val_acc: 0.8281\n",
            "Epoch 93/100\n",
            "2/2 [==============================] - 5s 5s/step - batch: 0.5000 - size: 1.0000 - loss: 0.9693 - acc: 0.7031 - val_loss: 0.9778 - val_acc: 0.6875\n",
            "Epoch 94/100\n",
            "2/2 [==============================] - 5s 5s/step - batch: 0.5000 - size: 1.0000 - loss: 0.9111 - acc: 0.7500 - val_loss: 0.9920 - val_acc: 0.7812\n",
            "Epoch 95/100\n",
            "2/2 [==============================] - 5s 5s/step - batch: 0.5000 - size: 1.0000 - loss: 0.9242 - acc: 0.7500 - val_loss: 0.9278 - val_acc: 0.7500\n",
            "Epoch 96/100\n",
            "2/2 [==============================] - 11s 10s/step - batch: 0.5000 - size: 1.0000 - loss: 0.9269 - acc: 0.7656 - val_loss: 1.0745 - val_acc: 0.6875\n",
            "Epoch 97/100\n",
            "2/2 [==============================] - 5s 5s/step - batch: 0.5000 - size: 1.0000 - loss: 0.8794 - acc: 0.7812 - val_loss: 0.9360 - val_acc: 0.7969\n",
            "Epoch 98/100\n",
            "2/2 [==============================] - 4s 4s/step - batch: 0.5000 - size: 1.0000 - loss: 0.9576 - acc: 0.7031 - val_loss: 0.9837 - val_acc: 0.6875\n",
            "Epoch 99/100\n",
            "2/2 [==============================] - 5s 4s/step - batch: 0.5000 - size: 1.0000 - loss: 0.9868 - acc: 0.7031 - val_loss: 0.9487 - val_acc: 0.7344\n",
            "Epoch 100/100\n",
            "2/2 [==============================] - 4s 4s/step - batch: 0.5000 - size: 1.0000 - loss: 0.9172 - acc: 0.7344 - val_loss: 0.9114 - val_acc: 0.7812\n"
          ]
        }
      ]
    },
    {
      "cell_type": "markdown",
      "source": [
        "Evaluate Model"
      ],
      "metadata": {
        "id": "IBRpcsXa4WrG"
      }
    },
    {
      "cell_type": "code",
      "source": [
        "validation_steps = 20\n",
        "\n",
        "loss0,accuracy0 = model.evaluate(validation_ds, steps = validation_steps)\n",
        "\n",
        "print(\"loss: {:.2f}\".format(loss0))\n",
        "print(\"accuracy: {:.2f}\".format(accuracy0))"
      ],
      "metadata": {
        "colab": {
          "base_uri": "https://localhost:8080/"
        },
        "id": "2Fc5eq2C3fLR",
        "outputId": "243af7a5-61e6-4c41-afa9-72b81cefec43"
      },
      "execution_count": null,
      "outputs": [
        {
          "output_type": "stream",
          "name": "stdout",
          "text": [
            "loss: 0.93\n",
            "accuracy: 0.75\n"
          ]
        }
      ]
    },
    {
      "cell_type": "markdown",
      "source": [
        "Learning curves"
      ],
      "metadata": {
        "id": "Rj7jmx1q4b5I"
      }
    },
    {
      "cell_type": "code",
      "source": [
        "plt.plot(history.history['acc'])\n",
        "plt.plot(history.history['val_acc'])\n",
        "plt.title('model accuracy')\n",
        "plt.ylabel('accuracy')\n",
        "plt.xlabel('epoch')\n",
        "plt.legend(['train', 'test'], loc='upper left')\n",
        "plt.show()"
      ],
      "metadata": {
        "id": "X08burEtZKRg",
        "colab": {
          "base_uri": "https://localhost:8080/",
          "height": 295
        },
        "outputId": "f6c2db11-ccf4-4e39-9deb-01912081e686"
      },
      "execution_count": null,
      "outputs": [
        {
          "output_type": "display_data",
          "data": {
            "text/plain": [
              "<Figure size 432x288 with 1 Axes>"
            ],
            "image/png": "[encoded data removed]"
          },
          "metadata": {
            "needs_background": "light"
          }
        }
      ]
    },
    {
      "cell_type": "code",
      "source": [
        "# summarize history for loss\n",
        "plt.plot(history.history['loss'])\n",
        "plt.plot(history.history['val_loss'])\n",
        "plt.title('model loss')\n",
        "plt.ylabel('loss')\n",
        "plt.xlabel('epoch')\n",
        "plt.legend(['train', 'test'], loc='upper left')\n",
        "plt.show()"
      ],
      "metadata": {
        "colab": {
          "base_uri": "https://localhost:8080/",
          "height": 295
        },
        "id": "3dlU7LHq3pS4",
        "outputId": "99d2366a-4aff-4b78-862a-fea194c7febe"
      },
      "execution_count": null,
      "outputs": [
        {
          "output_type": "display_data",
          "data": {
            "text/plain": [
              "<Figure size 432x288 with 1 Axes>"
            ],
            "image/png": "[encoded data removed]"
          },
          "metadata": {
            "needs_background": "light"
          }
        }
      ]
    },
    {
      "cell_type": "markdown",
      "source": [
        "#Network in Network(NiN)"
      ],
      "metadata": {
        "id": "DEqMKgYV9vSF"
      }
    },
    {
      "cell_type": "code",
      "source": [
        ""
      ],
      "metadata": {
        "id": "K4IrxtKt94ys"
      },
      "execution_count": null,
      "outputs": []
    },
    {
      "cell_type": "code",
      "source": [
        ""
      ],
      "metadata": {
        "id": "4NH1HuKu96PC"
      },
      "execution_count": null,
      "outputs": []
    },
    {
      "cell_type": "code",
      "source": [
        ""
      ],
      "metadata": {
        "id": "eRqtIUnK96dI"
      },
      "execution_count": null,
      "outputs": []
    },
    {
      "cell_type": "code",
      "source": [
        ""
      ],
      "metadata": {
        "id": "zj8Yurq296kl"
      },
      "execution_count": null,
      "outputs": []
    },
    {
      "cell_type": "markdown",
      "source": [
        "#Google Net"
      ],
      "metadata": {
        "id": "vC4xkIqCD5Y7"
      }
    },
    {
      "cell_type": "code",
      "source": [
        "import tensorflow as tf\n",
        "import matplotlib.pyplot as plt\n",
        "from tensorflow.keras import datasets, layers, models, losses, Model"
      ],
      "metadata": {
        "id": "Hhs45ZlXFgHW"
      },
      "execution_count": 3,
      "outputs": []
    },
    {
      "cell_type": "code",
      "source": [
        "(x_train,y_train),(x_test,y_test) = datasets.mnist.load_data()\n",
        "x_train = tf.pad(x_train, [[0, 0], [2,2], [2,2]])/255\n",
        "x_test = tf.pad(x_test, [[0, 0], [2,2], [2,2]])/255\n",
        "x_train = tf.expand_dims(x_train, axis=3, name=None)\n",
        "x_test = tf.expand_dims(x_test, axis=3, name=None)\n",
        "x_train = tf.repeat(x_train, 3, axis=3)\n",
        "x_test = tf.repeat(x_test, 3, axis=3)\n",
        "x_val = x_train[-2000:,:,:,:]\n",
        "y_val = y_train[-2000:]\n",
        "x_train = x_train[:-2000,:,:,:]\n",
        "y_train = y_train[:-2000]"
      ],
      "metadata": {
        "id": "IE6d6_x1EC4h",
        "colab": {
          "base_uri": "https://localhost:8080/"
        },
        "outputId": "f2cdacc8-6c0a-469f-f1f8-7790ba0c7461"
      },
      "execution_count": 4,
      "outputs": [
        {
          "output_type": "stream",
          "name": "stdout",
          "text": [
            "Downloading data from https://storage.googleapis.com/tensorflow/tf-keras-datasets/mnist.npz\n",
            "11493376/11490434 [==============================] - 0s 0us/step\n",
            "11501568/11490434 [==============================] - 0s 0us/step\n"
          ]
        }
      ]
    },
    {
      "cell_type": "code",
      "source": [
        "def inception(x,\n",
        "              filters_1x1,\n",
        "              filters_3x3_reduce,\n",
        "              filters_3x3,\n",
        "              filters_5x5_reduce,\n",
        "              filters_5x5,\n",
        "              filters_pool):\n",
        "  path1 = layers.Conv2D(filters_1x1, (1, 1), padding='same',    activation='relu')(x)\n",
        "  path2 = layers.Conv2D(filters_3x3_reduce, (1, 1), padding='same', activation='relu')(x)\n",
        "  path2 = layers.Conv2D(filters_3x3, (1, 1), padding='same', activation='relu')(path2)\n",
        "  path3 = layers.Conv2D(filters_5x5_reduce, (1, 1), padding='same', activation='relu')(x)\n",
        "  path3 = layers.Conv2D(filters_5x5, (1, 1), padding='same', activation='relu')(path3)\n",
        "  path4 = layers.MaxPool2D((3, 3), strides=(1, 1), padding='same')(x)\n",
        "  path4 = layers.Conv2D(filters_pool, (1, 1), padding='same', activation='relu')(path4)\n",
        "  return tf.concat([path1, path2, path3, path4], axis=3)"
      ],
      "metadata": {
        "id": "hmop4Mb1EC8I"
      },
      "execution_count": 5,
      "outputs": []
    },
    {
      "cell_type": "code",
      "source": [
        "inp = layers.Input(shape=(32, 32, 3))\n",
        "input_tensor = layers.experimental.preprocessing.Resizing(224, 224, interpolation=\"bilinear\", input_shape=x_train.shape[1:])(inp)\n",
        "x = layers.Conv2D(64, 7, strides=2, padding='same', activation='relu')(input_tensor)\n",
        "x = layers.MaxPooling2D(3, strides=2)(x)\n",
        "x = layers.Conv2D(64, 1, strides=1, padding='same', activation='relu')(x)\n",
        "x = layers.Conv2D(192, 3, strides=1, padding='same', activation='relu')(x)\n",
        "x = layers.MaxPooling2D(3, strides=2)(x)\n",
        "x = inception(x, filters_1x1=64, filters_3x3_reduce=96, filters_3x3=128, filters_5x5_reduce=16, filters_5x5=32, filters_pool=32)\n",
        "x = inception(x, filters_1x1=128, filters_3x3_reduce=128, filters_3x3=192, filters_5x5_reduce=32, filters_5x5=96, filters_pool=64)\n",
        "x = layers.MaxPooling2D(3, strides=2)(x)\n",
        "x = inception(x, filters_1x1=192, filters_3x3_reduce=96, filters_3x3=208, filters_5x5_reduce=16, filters_5x5=48, filters_pool=64)\n",
        "aux1 = layers.AveragePooling2D((5, 5), strides=3)(x)\n",
        "aux1 =layers.Conv2D(128, 1, padding='same', activation='relu')(aux1)\n",
        "aux1 = layers.Flatten()(aux1)\n",
        "aux1 = layers.Dense(1024, activation='relu')(aux1)\n",
        "aux1 = layers.Dropout(0.7)(aux1)\n",
        "aux1 = layers.Dense(10, activation='softmax')(aux1)\n",
        "x = inception(x, filters_1x1=160, filters_3x3_reduce=112, filters_3x3=224, filters_5x5_reduce=24, filters_5x5=64, filters_pool=64)\n",
        "x = inception(x, filters_1x1=128, filters_3x3_reduce=128, filters_3x3=256, filters_5x5_reduce=24, filters_5x5=64, filters_pool=64)\n",
        "x = inception(x, filters_1x1=112, filters_3x3_reduce=144, filters_3x3=288, filters_5x5_reduce=32, filters_5x5=64, filters_pool=64)\n",
        "aux2 = layers.AveragePooling2D((5, 5), strides=3)(x)\n",
        "aux2 =layers.Conv2D(128, 1, padding='same', activation='relu')(aux2)\n",
        "aux2 = layers.Flatten()(aux2)\n",
        "aux2 = layers.Dense(1024, activation='relu')(aux2)\n",
        "aux2 = layers.Dropout(0.7)(aux2) \n",
        "aux2 = layers.Dense(10, activation='softmax')(aux2)\n",
        "x = inception(x, filters_1x1=256, filters_3x3_reduce=160, filters_3x3=320, filters_5x5_reduce=32, filters_5x5=128, filters_pool=128)\n",
        "x = layers.MaxPooling2D(3, strides=2)(x)\n",
        "x = inception(x, filters_1x1=256, filters_3x3_reduce=160, filters_3x3=320, filters_5x5_reduce=32, filters_5x5=128, filters_pool=128)\n",
        "x = inception(x, filters_1x1=384, filters_3x3_reduce=192, filters_3x3=384, filters_5x5_reduce=48, filters_5x5=128, filters_pool=128)\n",
        "x = layers.GlobalAveragePooling2D()(x)\n",
        "x = layers.Dropout(0.4)(x)\n",
        "out = layers.Dense(10, activation='softmax')(x)"
      ],
      "metadata": {
        "id": "1eDl0nWvEDBH"
      },
      "execution_count": 6,
      "outputs": []
    },
    {
      "cell_type": "code",
      "source": [
        "model = Model(inputs = inp, outputs = [out, aux1, aux2])"
      ],
      "metadata": {
        "id": "UhL83HsdEDD5"
      },
      "execution_count": 7,
      "outputs": []
    },
    {
      "cell_type": "code",
      "source": [
        "model.compile(optimizer='adam', \n",
        "              loss=[losses.sparse_categorical_crossentropy,\n",
        "                    losses.sparse_categorical_crossentropy,\n",
        "                    losses.sparse_categorical_crossentropy],\n",
        "              loss_weights=[1, 0.3, 0.3],metrics=['accuracy'])"
      ],
      "metadata": {
        "id": "gl7Mf8HOEDGY"
      },
      "execution_count": 8,
      "outputs": []
    },
    {
      "cell_type": "code",
      "source": [
        "history = model.fit(x_train, [y_train, y_train, y_train], validation_data=(x_val, [y_val, y_val, y_val]), batch_size=64, epochs=40)\n"
      ],
      "metadata": {
        "colab": {
          "base_uri": "https://localhost:8080/"
        },
        "id": "59D88TrWHeKs",
        "outputId": "9483cc01-3e89-4b0c-b50e-b733c4ed3339"
      },
      "execution_count": 9,
      "outputs": [
        {
          "output_type": "stream",
          "name": "stdout",
          "text": [
            "Epoch 1/40\n",
            "907/907 [==============================] - 365s 383ms/step - loss: 1.1547 - dense_4_loss: 0.8469 - dense_1_loss: 0.4938 - dense_3_loss: 0.5324 - dense_4_accuracy: 0.6995 - dense_1_accuracy: 0.8317 - dense_3_accuracy: 0.8191 - val_loss: 0.1944 - val_dense_4_loss: 0.1459 - val_dense_1_loss: 0.0678 - val_dense_3_loss: 0.0940 - val_dense_4_accuracy: 0.9560 - val_dense_1_accuracy: 0.9785 - val_dense_3_accuracy: 0.9720\n",
            "Epoch 2/40\n",
            "907/907 [==============================] - 345s 381ms/step - loss: 0.2200 - dense_4_loss: 0.1539 - dense_1_loss: 0.1059 - dense_3_loss: 0.1145 - dense_4_accuracy: 0.9541 - dense_1_accuracy: 0.9673 - dense_3_accuracy: 0.9651 - val_loss: 0.0943 - val_dense_4_loss: 0.0610 - val_dense_1_loss: 0.0628 - val_dense_3_loss: 0.0483 - val_dense_4_accuracy: 0.9805 - val_dense_1_accuracy: 0.9850 - val_dense_3_accuracy: 0.9855\n",
            "Epoch 3/40\n",
            "907/907 [==============================] - 344s 379ms/step - loss: 0.1493 - dense_4_loss: 0.1025 - dense_1_loss: 0.0732 - dense_3_loss: 0.0829 - dense_4_accuracy: 0.9683 - dense_1_accuracy: 0.9781 - dense_3_accuracy: 0.9751 - val_loss: 0.1501 - val_dense_4_loss: 0.1194 - val_dense_1_loss: 0.0544 - val_dense_3_loss: 0.0477 - val_dense_4_accuracy: 0.9685 - val_dense_1_accuracy: 0.9870 - val_dense_3_accuracy: 0.9875\n",
            "Epoch 4/40\n",
            "907/907 [==============================] - 342s 377ms/step - loss: 0.1157 - dense_4_loss: 0.0770 - dense_1_loss: 0.0617 - dense_3_loss: 0.0671 - dense_4_accuracy: 0.9761 - dense_1_accuracy: 0.9819 - dense_3_accuracy: 0.9800 - val_loss: 0.1423 - val_dense_4_loss: 0.1005 - val_dense_1_loss: 0.0596 - val_dense_3_loss: 0.0799 - val_dense_4_accuracy: 0.9730 - val_dense_1_accuracy: 0.9800 - val_dense_3_accuracy: 0.9775\n",
            "Epoch 5/40\n",
            "907/907 [==============================] - 342s 378ms/step - loss: 0.1004 - dense_4_loss: 0.0668 - dense_1_loss: 0.0525 - dense_3_loss: 0.0596 - dense_4_accuracy: 0.9799 - dense_1_accuracy: 0.9836 - dense_3_accuracy: 0.9820 - val_loss: 0.0990 - val_dense_4_loss: 0.0721 - val_dense_1_loss: 0.0409 - val_dense_3_loss: 0.0488 - val_dense_4_accuracy: 0.9775 - val_dense_1_accuracy: 0.9890 - val_dense_3_accuracy: 0.9870\n",
            "Epoch 6/40\n",
            "907/907 [==============================] - 343s 378ms/step - loss: 0.0898 - dense_4_loss: 0.0589 - dense_1_loss: 0.0487 - dense_3_loss: 0.0541 - dense_4_accuracy: 0.9824 - dense_1_accuracy: 0.9849 - dense_3_accuracy: 0.9838 - val_loss: 0.0631 - val_dense_4_loss: 0.0496 - val_dense_1_loss: 0.0202 - val_dense_3_loss: 0.0247 - val_dense_4_accuracy: 0.9865 - val_dense_1_accuracy: 0.9970 - val_dense_3_accuracy: 0.9940\n",
            "Epoch 7/40\n",
            "907/907 [==============================] - 343s 378ms/step - loss: 0.0787 - dense_4_loss: 0.0516 - dense_1_loss: 0.0434 - dense_3_loss: 0.0471 - dense_4_accuracy: 0.9840 - dense_1_accuracy: 0.9867 - dense_3_accuracy: 0.9860 - val_loss: 0.0542 - val_dense_4_loss: 0.0394 - val_dense_1_loss: 0.0201 - val_dense_3_loss: 0.0295 - val_dense_4_accuracy: 0.9895 - val_dense_1_accuracy: 0.9940 - val_dense_3_accuracy: 0.9930\n",
            "Epoch 8/40\n",
            "907/907 [==============================] - 342s 377ms/step - loss: 0.0724 - dense_4_loss: 0.0470 - dense_1_loss: 0.0412 - dense_3_loss: 0.0433 - dense_4_accuracy: 0.9851 - dense_1_accuracy: 0.9870 - dense_3_accuracy: 0.9870 - val_loss: 0.0593 - val_dense_4_loss: 0.0416 - val_dense_1_loss: 0.0319 - val_dense_3_loss: 0.0271 - val_dense_4_accuracy: 0.9910 - val_dense_1_accuracy: 0.9925 - val_dense_3_accuracy: 0.9935\n",
            "Epoch 9/40\n",
            "907/907 [==============================] - 342s 377ms/step - loss: 0.0638 - dense_4_loss: 0.0413 - dense_1_loss: 0.0376 - dense_3_loss: 0.0373 - dense_4_accuracy: 0.9873 - dense_1_accuracy: 0.9888 - dense_3_accuracy: 0.9887 - val_loss: 0.0397 - val_dense_4_loss: 0.0275 - val_dense_1_loss: 0.0214 - val_dense_3_loss: 0.0191 - val_dense_4_accuracy: 0.9940 - val_dense_1_accuracy: 0.9965 - val_dense_3_accuracy: 0.9950\n",
            "Epoch 10/40\n",
            "907/907 [==============================] - 341s 376ms/step - loss: 0.0642 - dense_4_loss: 0.0420 - dense_1_loss: 0.0368 - dense_3_loss: 0.0369 - dense_4_accuracy: 0.9867 - dense_1_accuracy: 0.9887 - dense_3_accuracy: 0.9888 - val_loss: 0.0578 - val_dense_4_loss: 0.0397 - val_dense_1_loss: 0.0356 - val_dense_3_loss: 0.0246 - val_dense_4_accuracy: 0.9910 - val_dense_1_accuracy: 0.9925 - val_dense_3_accuracy: 0.9950\n",
            "Epoch 11/40\n",
            "907/907 [==============================] - 341s 376ms/step - loss: 0.0562 - dense_4_loss: 0.0359 - dense_1_loss: 0.0327 - dense_3_loss: 0.0348 - dense_4_accuracy: 0.9888 - dense_1_accuracy: 0.9900 - dense_3_accuracy: 0.9894 - val_loss: 0.0522 - val_dense_4_loss: 0.0360 - val_dense_1_loss: 0.0297 - val_dense_3_loss: 0.0244 - val_dense_4_accuracy: 0.9920 - val_dense_1_accuracy: 0.9930 - val_dense_3_accuracy: 0.9925\n",
            "Epoch 12/40\n",
            "907/907 [==============================] - 341s 376ms/step - loss: 0.0499 - dense_4_loss: 0.0316 - dense_1_loss: 0.0300 - dense_3_loss: 0.0312 - dense_4_accuracy: 0.9898 - dense_1_accuracy: 0.9905 - dense_3_accuracy: 0.9905 - val_loss: 0.0476 - val_dense_4_loss: 0.0358 - val_dense_1_loss: 0.0227 - val_dense_3_loss: 0.0167 - val_dense_4_accuracy: 0.9925 - val_dense_1_accuracy: 0.9940 - val_dense_3_accuracy: 0.9965\n",
            "Epoch 13/40\n",
            "907/907 [==============================] - 340s 375ms/step - loss: 0.0505 - dense_4_loss: 0.0322 - dense_1_loss: 0.0293 - dense_3_loss: 0.0317 - dense_4_accuracy: 0.9899 - dense_1_accuracy: 0.9911 - dense_3_accuracy: 0.9904 - val_loss: 0.0589 - val_dense_4_loss: 0.0408 - val_dense_1_loss: 0.0345 - val_dense_3_loss: 0.0257 - val_dense_4_accuracy: 0.9915 - val_dense_1_accuracy: 0.9925 - val_dense_3_accuracy: 0.9940\n",
            "Epoch 14/40\n",
            "907/907 [==============================] - 340s 375ms/step - loss: 0.0445 - dense_4_loss: 0.0276 - dense_1_loss: 0.0271 - dense_3_loss: 0.0292 - dense_4_accuracy: 0.9917 - dense_1_accuracy: 0.9917 - dense_3_accuracy: 0.9909 - val_loss: 0.0500 - val_dense_4_loss: 0.0349 - val_dense_1_loss: 0.0270 - val_dense_3_loss: 0.0234 - val_dense_4_accuracy: 0.9950 - val_dense_1_accuracy: 0.9965 - val_dense_3_accuracy: 0.9955\n",
            "Epoch 15/40\n",
            "907/907 [==============================] - 340s 375ms/step - loss: 0.0434 - dense_4_loss: 0.0277 - dense_1_loss: 0.0250 - dense_3_loss: 0.0273 - dense_4_accuracy: 0.9914 - dense_1_accuracy: 0.9924 - dense_3_accuracy: 0.9921 - val_loss: 0.0373 - val_dense_4_loss: 0.0267 - val_dense_1_loss: 0.0206 - val_dense_3_loss: 0.0150 - val_dense_4_accuracy: 0.9945 - val_dense_1_accuracy: 0.9970 - val_dense_3_accuracy: 0.9985\n",
            "Epoch 16/40\n",
            "907/907 [==============================] - 341s 376ms/step - loss: 0.0406 - dense_4_loss: 0.0249 - dense_1_loss: 0.0262 - dense_3_loss: 0.0264 - dense_4_accuracy: 0.9917 - dense_1_accuracy: 0.9920 - dense_3_accuracy: 0.9920 - val_loss: 0.0420 - val_dense_4_loss: 0.0261 - val_dense_1_loss: 0.0275 - val_dense_3_loss: 0.0256 - val_dense_4_accuracy: 0.9950 - val_dense_1_accuracy: 0.9960 - val_dense_3_accuracy: 0.9950\n",
            "Epoch 17/40\n",
            "907/907 [==============================] - 341s 376ms/step - loss: 0.0391 - dense_4_loss: 0.0245 - dense_1_loss: 0.0238 - dense_3_loss: 0.0249 - dense_4_accuracy: 0.9919 - dense_1_accuracy: 0.9926 - dense_3_accuracy: 0.9920 - val_loss: 0.0505 - val_dense_4_loss: 0.0366 - val_dense_1_loss: 0.0224 - val_dense_3_loss: 0.0239 - val_dense_4_accuracy: 0.9935 - val_dense_1_accuracy: 0.9955 - val_dense_3_accuracy: 0.9960\n",
            "Epoch 18/40\n",
            "907/907 [==============================] - 340s 375ms/step - loss: 0.0349 - dense_4_loss: 0.0214 - dense_1_loss: 0.0219 - dense_3_loss: 0.0232 - dense_4_accuracy: 0.9930 - dense_1_accuracy: 0.9932 - dense_3_accuracy: 0.9926 - val_loss: 0.0372 - val_dense_4_loss: 0.0260 - val_dense_1_loss: 0.0191 - val_dense_3_loss: 0.0183 - val_dense_4_accuracy: 0.9940 - val_dense_1_accuracy: 0.9975 - val_dense_3_accuracy: 0.9975\n",
            "Epoch 19/40\n",
            "907/907 [==============================] - 340s 375ms/step - loss: 0.0337 - dense_4_loss: 0.0210 - dense_1_loss: 0.0207 - dense_3_loss: 0.0219 - dense_4_accuracy: 0.9934 - dense_1_accuracy: 0.9936 - dense_3_accuracy: 0.9936 - val_loss: 0.0425 - val_dense_4_loss: 0.0279 - val_dense_1_loss: 0.0216 - val_dense_3_loss: 0.0274 - val_dense_4_accuracy: 0.9965 - val_dense_1_accuracy: 0.9960 - val_dense_3_accuracy: 0.9905\n",
            "Epoch 20/40\n",
            "907/907 [==============================] - 341s 376ms/step - loss: 0.0353 - dense_4_loss: 0.0211 - dense_1_loss: 0.0243 - dense_3_loss: 0.0232 - dense_4_accuracy: 0.9928 - dense_1_accuracy: 0.9926 - dense_3_accuracy: 0.9928 - val_loss: 0.0445 - val_dense_4_loss: 0.0318 - val_dense_1_loss: 0.0187 - val_dense_3_loss: 0.0233 - val_dense_4_accuracy: 0.9940 - val_dense_1_accuracy: 0.9970 - val_dense_3_accuracy: 0.9965\n",
            "Epoch 21/40\n",
            "907/907 [==============================] - 340s 375ms/step - loss: 0.0326 - dense_4_loss: 0.0200 - dense_1_loss: 0.0210 - dense_3_loss: 0.0208 - dense_4_accuracy: 0.9937 - dense_1_accuracy: 0.9934 - dense_3_accuracy: 0.9935 - val_loss: 0.0541 - val_dense_4_loss: 0.0363 - val_dense_1_loss: 0.0306 - val_dense_3_loss: 0.0287 - val_dense_4_accuracy: 0.9945 - val_dense_1_accuracy: 0.9960 - val_dense_3_accuracy: 0.9960\n",
            "Epoch 22/40\n",
            "907/907 [==============================] - 339s 374ms/step - loss: 0.0326 - dense_4_loss: 0.0200 - dense_1_loss: 0.0214 - dense_3_loss: 0.0206 - dense_4_accuracy: 0.9936 - dense_1_accuracy: 0.9931 - dense_3_accuracy: 0.9941 - val_loss: 0.0432 - val_dense_4_loss: 0.0238 - val_dense_1_loss: 0.0383 - val_dense_3_loss: 0.0264 - val_dense_4_accuracy: 0.9955 - val_dense_1_accuracy: 0.9945 - val_dense_3_accuracy: 0.9970\n",
            "Epoch 23/40\n",
            "907/907 [==============================] - 340s 374ms/step - loss: 0.0278 - dense_4_loss: 0.0165 - dense_1_loss: 0.0193 - dense_3_loss: 0.0186 - dense_4_accuracy: 0.9948 - dense_1_accuracy: 0.9939 - dense_3_accuracy: 0.9939 - val_loss: 0.0596 - val_dense_4_loss: 0.0412 - val_dense_1_loss: 0.0251 - val_dense_3_loss: 0.0364 - val_dense_4_accuracy: 0.9905 - val_dense_1_accuracy: 0.9970 - val_dense_3_accuracy: 0.9935\n",
            "Epoch 24/40\n",
            "907/907 [==============================] - 340s 375ms/step - loss: 0.0296 - dense_4_loss: 0.0185 - dense_1_loss: 0.0193 - dense_3_loss: 0.0179 - dense_4_accuracy: 0.9939 - dense_1_accuracy: 0.9941 - dense_3_accuracy: 0.9946 - val_loss: 0.0454 - val_dense_4_loss: 0.0305 - val_dense_1_loss: 0.0259 - val_dense_3_loss: 0.0240 - val_dense_4_accuracy: 0.9925 - val_dense_1_accuracy: 0.9970 - val_dense_3_accuracy: 0.9950\n",
            "Epoch 25/40\n",
            "907/907 [==============================] - 340s 374ms/step - loss: 0.0261 - dense_4_loss: 0.0153 - dense_1_loss: 0.0180 - dense_3_loss: 0.0179 - dense_4_accuracy: 0.9948 - dense_1_accuracy: 0.9942 - dense_3_accuracy: 0.9945 - val_loss: 0.0629 - val_dense_4_loss: 0.0428 - val_dense_1_loss: 0.0356 - val_dense_3_loss: 0.0315 - val_dense_4_accuracy: 0.9885 - val_dense_1_accuracy: 0.9930 - val_dense_3_accuracy: 0.9940\n",
            "Epoch 26/40\n",
            "907/907 [==============================] - 340s 375ms/step - loss: 0.0266 - dense_4_loss: 0.0160 - dense_1_loss: 0.0169 - dense_3_loss: 0.0186 - dense_4_accuracy: 0.9947 - dense_1_accuracy: 0.9947 - dense_3_accuracy: 0.9946 - val_loss: 0.0520 - val_dense_4_loss: 0.0334 - val_dense_1_loss: 0.0348 - val_dense_3_loss: 0.0272 - val_dense_4_accuracy: 0.9935 - val_dense_1_accuracy: 0.9965 - val_dense_3_accuracy: 0.9950\n",
            "Epoch 27/40\n",
            "907/907 [==============================] - 340s 375ms/step - loss: 0.0266 - dense_4_loss: 0.0161 - dense_1_loss: 0.0169 - dense_3_loss: 0.0182 - dense_4_accuracy: 0.9953 - dense_1_accuracy: 0.9949 - dense_3_accuracy: 0.9948 - val_loss: 0.0332 - val_dense_4_loss: 0.0206 - val_dense_1_loss: 0.0229 - val_dense_3_loss: 0.0190 - val_dense_4_accuracy: 0.9955 - val_dense_1_accuracy: 0.9975 - val_dense_3_accuracy: 0.9955\n",
            "Epoch 28/40\n",
            "907/907 [==============================] - 341s 376ms/step - loss: 0.0262 - dense_4_loss: 0.0161 - dense_1_loss: 0.0177 - dense_3_loss: 0.0159 - dense_4_accuracy: 0.9947 - dense_1_accuracy: 0.9946 - dense_3_accuracy: 0.9949 - val_loss: 0.0606 - val_dense_4_loss: 0.0439 - val_dense_1_loss: 0.0317 - val_dense_3_loss: 0.0240 - val_dense_4_accuracy: 0.9920 - val_dense_1_accuracy: 0.9935 - val_dense_3_accuracy: 0.9940\n",
            "Epoch 29/40\n",
            "907/907 [==============================] - 341s 376ms/step - loss: 0.0247 - dense_4_loss: 0.0145 - dense_1_loss: 0.0168 - dense_3_loss: 0.0170 - dense_4_accuracy: 0.9952 - dense_1_accuracy: 0.9949 - dense_3_accuracy: 0.9948 - val_loss: 0.0505 - val_dense_4_loss: 0.0298 - val_dense_1_loss: 0.0350 - val_dense_3_loss: 0.0338 - val_dense_4_accuracy: 0.9945 - val_dense_1_accuracy: 0.9950 - val_dense_3_accuracy: 0.9935\n",
            "Epoch 30/40\n",
            "907/907 [==============================] - 340s 375ms/step - loss: 0.0229 - dense_4_loss: 0.0133 - dense_1_loss: 0.0164 - dense_3_loss: 0.0156 - dense_4_accuracy: 0.9958 - dense_1_accuracy: 0.9951 - dense_3_accuracy: 0.9954 - val_loss: 0.0428 - val_dense_4_loss: 0.0259 - val_dense_1_loss: 0.0306 - val_dense_3_loss: 0.0256 - val_dense_4_accuracy: 0.9965 - val_dense_1_accuracy: 0.9965 - val_dense_3_accuracy: 0.9940\n",
            "Epoch 31/40\n",
            "907/907 [==============================] - 340s 375ms/step - loss: 0.0247 - dense_4_loss: 0.0152 - dense_1_loss: 0.0150 - dense_3_loss: 0.0164 - dense_4_accuracy: 0.9953 - dense_1_accuracy: 0.9953 - dense_3_accuracy: 0.9950 - val_loss: 0.0604 - val_dense_4_loss: 0.0424 - val_dense_1_loss: 0.0287 - val_dense_3_loss: 0.0314 - val_dense_4_accuracy: 0.9900 - val_dense_1_accuracy: 0.9950 - val_dense_3_accuracy: 0.9930\n",
            "Epoch 32/40\n",
            "907/907 [==============================] - 341s 376ms/step - loss: 0.0200 - dense_4_loss: 0.0111 - dense_1_loss: 0.0162 - dense_3_loss: 0.0135 - dense_4_accuracy: 0.9962 - dense_1_accuracy: 0.9956 - dense_3_accuracy: 0.9962 - val_loss: 0.0565 - val_dense_4_loss: 0.0379 - val_dense_1_loss: 0.0395 - val_dense_3_loss: 0.0226 - val_dense_4_accuracy: 0.9940 - val_dense_1_accuracy: 0.9950 - val_dense_3_accuracy: 0.9950\n",
            "Epoch 33/40\n",
            "907/907 [==============================] - 340s 375ms/step - loss: 0.0251 - dense_4_loss: 0.0152 - dense_1_loss: 0.0169 - dense_3_loss: 0.0161 - dense_4_accuracy: 0.9949 - dense_1_accuracy: 0.9951 - dense_3_accuracy: 0.9953 - val_loss: 0.0520 - val_dense_4_loss: 0.0350 - val_dense_1_loss: 0.0289 - val_dense_3_loss: 0.0276 - val_dense_4_accuracy: 0.9935 - val_dense_1_accuracy: 0.9950 - val_dense_3_accuracy: 0.9965\n",
            "Epoch 34/40\n",
            "907/907 [==============================] - 340s 375ms/step - loss: 0.0235 - dense_4_loss: 0.0137 - dense_1_loss: 0.0155 - dense_3_loss: 0.0171 - dense_4_accuracy: 0.9952 - dense_1_accuracy: 0.9954 - dense_3_accuracy: 0.9951 - val_loss: 0.0413 - val_dense_4_loss: 0.0264 - val_dense_1_loss: 0.0284 - val_dense_3_loss: 0.0214 - val_dense_4_accuracy: 0.9955 - val_dense_1_accuracy: 0.9970 - val_dense_3_accuracy: 0.9970\n",
            "Epoch 35/40\n",
            "907/907 [==============================] - 340s 375ms/step - loss: 0.0218 - dense_4_loss: 0.0131 - dense_1_loss: 0.0147 - dense_3_loss: 0.0144 - dense_4_accuracy: 0.9954 - dense_1_accuracy: 0.9958 - dense_3_accuracy: 0.9959 - val_loss: 0.0445 - val_dense_4_loss: 0.0280 - val_dense_1_loss: 0.0255 - val_dense_3_loss: 0.0293 - val_dense_4_accuracy: 0.9960 - val_dense_1_accuracy: 0.9970 - val_dense_3_accuracy: 0.9955\n",
            "Epoch 36/40\n",
            "907/907 [==============================] - 340s 375ms/step - loss: 0.0222 - dense_4_loss: 0.0134 - dense_1_loss: 0.0147 - dense_3_loss: 0.0145 - dense_4_accuracy: 0.9958 - dense_1_accuracy: 0.9955 - dense_3_accuracy: 0.9961 - val_loss: 0.0600 - val_dense_4_loss: 0.0366 - val_dense_1_loss: 0.0461 - val_dense_3_loss: 0.0320 - val_dense_4_accuracy: 0.9925 - val_dense_1_accuracy: 0.9925 - val_dense_3_accuracy: 0.9950\n",
            "Epoch 37/40\n",
            "907/907 [==============================] - 340s 375ms/step - loss: 0.0185 - dense_4_loss: 0.0102 - dense_1_loss: 0.0144 - dense_3_loss: 0.0132 - dense_4_accuracy: 0.9963 - dense_1_accuracy: 0.9957 - dense_3_accuracy: 0.9961 - val_loss: 0.0462 - val_dense_4_loss: 0.0274 - val_dense_1_loss: 0.0262 - val_dense_3_loss: 0.0363 - val_dense_4_accuracy: 0.9960 - val_dense_1_accuracy: 0.9970 - val_dense_3_accuracy: 0.9955\n",
            "Epoch 38/40\n",
            "907/907 [==============================] - 340s 374ms/step - loss: 0.0248 - dense_4_loss: 0.0152 - dense_1_loss: 0.0154 - dense_3_loss: 0.0167 - dense_4_accuracy: 0.9954 - dense_1_accuracy: 0.9952 - dense_3_accuracy: 0.9951 - val_loss: 0.0489 - val_dense_4_loss: 0.0316 - val_dense_1_loss: 0.0250 - val_dense_3_loss: 0.0328 - val_dense_4_accuracy: 0.9935 - val_dense_1_accuracy: 0.9970 - val_dense_3_accuracy: 0.9950\n",
            "Epoch 39/40\n",
            "907/907 [==============================] - 340s 374ms/step - loss: 0.0211 - dense_4_loss: 0.0129 - dense_1_loss: 0.0137 - dense_3_loss: 0.0135 - dense_4_accuracy: 0.9957 - dense_1_accuracy: 0.9962 - dense_3_accuracy: 0.9958 - val_loss: 0.0641 - val_dense_4_loss: 0.0407 - val_dense_1_loss: 0.0393 - val_dense_3_loss: 0.0387 - val_dense_4_accuracy: 0.9930 - val_dense_1_accuracy: 0.9960 - val_dense_3_accuracy: 0.9960\n",
            "Epoch 40/40\n",
            "907/907 [==============================] - 337s 372ms/step - loss: 0.0213 - dense_4_loss: 0.0124 - dense_1_loss: 0.0159 - dense_3_loss: 0.0141 - dense_4_accuracy: 0.9960 - dense_1_accuracy: 0.9954 - dense_3_accuracy: 0.9957 - val_loss: 0.0734 - val_dense_4_loss: 0.0453 - val_dense_1_loss: 0.0415 - val_dense_3_loss: 0.0521 - val_dense_4_accuracy: 0.9915 - val_dense_1_accuracy: 0.9925 - val_dense_3_accuracy: 0.9940\n"
          ]
        }
      ]
    },
    {
      "cell_type": "code",
      "source": [
        "fig, axs = plt.subplots(2, 1, figsize=(15,15))\n",
        "\n",
        "axs[0].plot(history.history['loss'])\n",
        "axs[0].plot(history.history['val_loss'])\n",
        "axs[0].title.set_text('Training Loss vs Validation Loss')\n",
        "axs[0].set_xlabel('Epochs')\n",
        "axs[0].set_ylabel('Loss')\n",
        "axs[0].legend(['Train','Val'])\n",
        "\n",
        "axs[1].plot(history.history['dense_4_accuracy'])\n",
        "axs[1].plot(history.history['val_dense_4_accuracy'])\n",
        "axs[1].title.set_text('Training Accuracy vs Validation Accuracy')\n",
        "axs[1].set_xlabel('Epochs')\n",
        "axs[1].set_ylabel('Accuracy')\n",
        "axs[1].legend(['Train', 'Val'])"
      ],
      "metadata": {
        "id": "krNZaUpFMc87",
        "colab": {
          "base_uri": "https://localhost:8080/",
          "height": 910
        },
        "outputId": "09d1c980-0f7e-4b6f-e411-5971a01ad8f1"
      },
      "execution_count": 10,
      "outputs": [
        {
          "output_type": "execute_result",
          "data": {
            "text/plain": [
              "<matplotlib.legend.Legend at 0x7f35a9da9c10>"
            ]
          },
          "metadata": {},
          "execution_count": 10
        },
        {
          "output_type": "display_data",
          "data": {
            "text/plain": [
              "<Figure size 1080x1080 with 2 Axes>"
            ],
            "image/png": "[encoded data removed]"
          },
          "metadata": {
            "needs_background": "light"
          }
        }
      ]
    },
    {
      "cell_type": "code",
      "source": [
        "model.evaluate(x_test, y_test)"
      ],
      "metadata": {
        "id": "5arvnwWfMjuJ",
        "colab": {
          "base_uri": "https://localhost:8080/"
        },
        "outputId": "65a90577-fc4b-4b64-ac1a-31b7bf39a7ca"
      },
      "execution_count": 11,
      "outputs": [
        {
          "output_type": "stream",
          "name": "stdout",
          "text": [
            "313/313 [==============================] - 25s 72ms/step - loss: 0.0612 - dense_4_loss: 0.0406 - dense_1_loss: 0.0353 - dense_3_loss: 0.0335 - dense_4_accuracy: 0.9886 - dense_1_accuracy: 0.9913 - dense_3_accuracy: 0.9898\n"
          ]
        },
        {
          "output_type": "execute_result",
          "data": {
            "text/plain": [
              "[0.06122823432087898,\n",
              " 0.04057164490222931,\n",
              " 0.035340894013643265,\n",
              " 0.03351447731256485,\n",
              " 0.9886000156402588,\n",
              " 0.9912999868392944,\n",
              " 0.989799976348877]"
            ]
          },
          "metadata": {},
          "execution_count": 11
        }
      ]
    },
    {
      "cell_type": "code",
      "source": [
        ""
      ],
      "metadata": {
        "id": "h_cJSW2hMj5e"
      },
      "execution_count": null,
      "outputs": []
    }
  ]
}