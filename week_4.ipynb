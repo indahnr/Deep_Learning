{
  "nbformat": 4,
  "nbformat_minor": 0,
  "metadata": {
    "colab": {
      "name": "week_4.ipynb",
      "provenance": [],
      "include_colab_link": true
    },
    "kernelspec": {
      "name": "python3",
      "display_name": "Python 3"
    },
    "language_info": {
      "name": "python"
    }
  },
  "cells": [
    {
      "cell_type": "markdown",
      "metadata": {
        "id": "view-in-github",
        "colab_type": "text"
      },
      "source": [
        "<a href=\"https://colab.research.google.com/github/indahnr/Deep_Learning/blob/main/week_4.ipynb\" target=\"_parent\"><img src=\"https://colab.research.google.com/assets/colab-badge.svg\" alt=\"Open In Colab\"/></a>"
      ]
    },
    {
      "cell_type": "markdown",
      "source": [
        "#LeNet"
      ],
      "metadata": {
        "id": "kTB1vIlu_Gcf"
      }
    },
    {
      "cell_type": "code",
      "execution_count": null,
      "metadata": {
        "colab": {
          "base_uri": "https://localhost:8080/"
        },
        "id": "XsqHGsLYVZDU",
        "outputId": "9e8a7770-180c-4ab7-db8c-06ae4c30f30c"
      },
      "outputs": [
        {
          "output_type": "stream",
          "name": "stdout",
          "text": [
            "Requirement already satisfied: tensorflow in /usr/local/lib/python3.7/dist-packages (2.8.0)\n",
            "Requirement already satisfied: h5py>=2.9.0 in /usr/local/lib/python3.7/dist-packages (from tensorflow) (3.1.0)\n",
            "Requirement already satisfied: typing-extensions>=3.6.6 in /usr/local/lib/python3.7/dist-packages (from tensorflow) (3.10.0.2)\n",
            "Requirement already satisfied: six>=1.12.0 in /usr/local/lib/python3.7/dist-packages (from tensorflow) (1.15.0)\n",
            "Requirement already satisfied: astunparse>=1.6.0 in /usr/local/lib/python3.7/dist-packages (from tensorflow) (1.6.3)\n",
            "Requirement already satisfied: tensorflow-io-gcs-filesystem>=0.23.1 in /usr/local/lib/python3.7/dist-packages (from tensorflow) (0.24.0)\n",
            "Requirement already satisfied: setuptools in /usr/local/lib/python3.7/dist-packages (from tensorflow) (57.4.0)\n",
            "Requirement already satisfied: flatbuffers>=1.12 in /usr/local/lib/python3.7/dist-packages (from tensorflow) (2.0)\n",
            "Requirement already satisfied: wrapt>=1.11.0 in /usr/local/lib/python3.7/dist-packages (from tensorflow) (1.14.0)\n",
            "Requirement already satisfied: libclang>=9.0.1 in /usr/local/lib/python3.7/dist-packages (from tensorflow) (13.0.0)\n",
            "Requirement already satisfied: numpy>=1.20 in /usr/local/lib/python3.7/dist-packages (from tensorflow) (1.21.5)\n",
            "Requirement already satisfied: gast>=0.2.1 in /usr/local/lib/python3.7/dist-packages (from tensorflow) (0.5.3)\n",
            "Requirement already satisfied: tensorboard<2.9,>=2.8 in /usr/local/lib/python3.7/dist-packages (from tensorflow) (2.8.0)\n",
            "Requirement already satisfied: absl-py>=0.4.0 in /usr/local/lib/python3.7/dist-packages (from tensorflow) (1.0.0)\n",
            "Requirement already satisfied: grpcio<2.0,>=1.24.3 in /usr/local/lib/python3.7/dist-packages (from tensorflow) (1.44.0)\n",
            "Requirement already satisfied: tf-estimator-nightly==2.8.0.dev2021122109 in /usr/local/lib/python3.7/dist-packages (from tensorflow) (2.8.0.dev2021122109)\n",
            "Requirement already satisfied: termcolor>=1.1.0 in /usr/local/lib/python3.7/dist-packages (from tensorflow) (1.1.0)\n",
            "Requirement already satisfied: protobuf>=3.9.2 in /usr/local/lib/python3.7/dist-packages (from tensorflow) (3.17.3)\n",
            "Requirement already satisfied: keras-preprocessing>=1.1.1 in /usr/local/lib/python3.7/dist-packages (from tensorflow) (1.1.2)\n",
            "Requirement already satisfied: google-pasta>=0.1.1 in /usr/local/lib/python3.7/dist-packages (from tensorflow) (0.2.0)\n",
            "Requirement already satisfied: opt-einsum>=2.3.2 in /usr/local/lib/python3.7/dist-packages (from tensorflow) (3.3.0)\n",
            "Requirement already satisfied: keras<2.9,>=2.8.0rc0 in /usr/local/lib/python3.7/dist-packages (from tensorflow) (2.8.0)\n",
            "Requirement already satisfied: wheel<1.0,>=0.23.0 in /usr/local/lib/python3.7/dist-packages (from astunparse>=1.6.0->tensorflow) (0.37.1)\n",
            "Requirement already satisfied: cached-property in /usr/local/lib/python3.7/dist-packages (from h5py>=2.9.0->tensorflow) (1.5.2)\n",
            "Requirement already satisfied: requests<3,>=2.21.0 in /usr/local/lib/python3.7/dist-packages (from tensorboard<2.9,>=2.8->tensorflow) (2.25.1)\n",
            "Requirement already satisfied: tensorboard-plugin-wit>=1.6.0 in /usr/local/lib/python3.7/dist-packages (from tensorboard<2.9,>=2.8->tensorflow) (1.8.1)\n",
            "Requirement already satisfied: markdown>=2.6.8 in /usr/local/lib/python3.7/dist-packages (from tensorboard<2.9,>=2.8->tensorflow) (3.3.6)\n",
            "Requirement already satisfied: werkzeug>=0.11.15 in /usr/local/lib/python3.7/dist-packages (from tensorboard<2.9,>=2.8->tensorflow) (1.0.1)\n",
            "Requirement already satisfied: google-auth<3,>=1.6.3 in /usr/local/lib/python3.7/dist-packages (from tensorboard<2.9,>=2.8->tensorflow) (1.35.0)\n",
            "Requirement already satisfied: tensorboard-data-server<0.7.0,>=0.6.0 in /usr/local/lib/python3.7/dist-packages (from tensorboard<2.9,>=2.8->tensorflow) (0.6.1)\n",
            "Requirement already satisfied: google-auth-oauthlib<0.5,>=0.4.1 in /usr/local/lib/python3.7/dist-packages (from tensorboard<2.9,>=2.8->tensorflow) (0.4.6)\n",
            "Requirement already satisfied: pyasn1-modules>=0.2.1 in /usr/local/lib/python3.7/dist-packages (from google-auth<3,>=1.6.3->tensorboard<2.9,>=2.8->tensorflow) (0.2.8)\n",
            "Requirement already satisfied: rsa<5,>=3.1.4 in /usr/local/lib/python3.7/dist-packages (from google-auth<3,>=1.6.3->tensorboard<2.9,>=2.8->tensorflow) (4.8)\n",
            "Requirement already satisfied: cachetools<5.0,>=2.0.0 in /usr/local/lib/python3.7/dist-packages (from google-auth<3,>=1.6.3->tensorboard<2.9,>=2.8->tensorflow) (4.2.4)\n",
            "Requirement already satisfied: requests-oauthlib>=0.7.0 in /usr/local/lib/python3.7/dist-packages (from google-auth-oauthlib<0.5,>=0.4.1->tensorboard<2.9,>=2.8->tensorflow) (1.3.1)\n",
            "Requirement already satisfied: importlib-metadata>=4.4 in /usr/local/lib/python3.7/dist-packages (from markdown>=2.6.8->tensorboard<2.9,>=2.8->tensorflow) (4.11.3)\n",
            "Requirement already satisfied: zipp>=0.5 in /usr/local/lib/python3.7/dist-packages (from importlib-metadata>=4.4->markdown>=2.6.8->tensorboard<2.9,>=2.8->tensorflow) (3.7.0)\n",
            "Requirement already satisfied: pyasn1<0.5.0,>=0.4.6 in /usr/local/lib/python3.7/dist-packages (from pyasn1-modules>=0.2.1->google-auth<3,>=1.6.3->tensorboard<2.9,>=2.8->tensorflow) (0.4.8)\n",
            "Requirement already satisfied: chardet<5,>=3.0.2 in /usr/local/lib/python3.7/dist-packages (from requests<3,>=2.21.0->tensorboard<2.9,>=2.8->tensorflow) (3.0.4)\n",
            "Requirement already satisfied: urllib3<1.27,>=1.21.1 in /usr/local/lib/python3.7/dist-packages (from requests<3,>=2.21.0->tensorboard<2.9,>=2.8->tensorflow) (1.24.3)\n",
            "Requirement already satisfied: idna<3,>=2.5 in /usr/local/lib/python3.7/dist-packages (from requests<3,>=2.21.0->tensorboard<2.9,>=2.8->tensorflow) (2.10)\n",
            "Requirement already satisfied: certifi>=2017.4.17 in /usr/local/lib/python3.7/dist-packages (from requests<3,>=2.21.0->tensorboard<2.9,>=2.8->tensorflow) (2021.10.8)\n",
            "Requirement already satisfied: oauthlib>=3.0.0 in /usr/local/lib/python3.7/dist-packages (from requests-oauthlib>=0.7.0->google-auth-oauthlib<0.5,>=0.4.1->tensorboard<2.9,>=2.8->tensorflow) (3.2.0)\n"
          ]
        }
      ],
      "source": [
        "!pip install tensorflow"
      ]
    },
    {
      "cell_type": "code",
      "source": [
        "import tensorflow as tf\n",
        "import matplotlib.pyplot as plt\n",
        "from tensorflow.keras import datasets, layers, models, losses"
      ],
      "metadata": {
        "id": "vHOituvrWWBd"
      },
      "execution_count": null,
      "outputs": []
    },
    {
      "cell_type": "code",
      "source": [
        "(x_train,y_train),(x_test,y_test) = datasets.mnist.load_data()\n",
        "x_train.shape"
      ],
      "metadata": {
        "colab": {
          "base_uri": "https://localhost:8080/"
        },
        "id": "GPXxFOqrWWNp",
        "outputId": "f006ec76-1065-46f6-dbb8-199c4fb22f40"
      },
      "execution_count": null,
      "outputs": [
        {
          "output_type": "execute_result",
          "data": {
            "text/plain": [
              "(60000, 28, 28)"
            ]
          },
          "metadata": {},
          "execution_count": 15
        }
      ]
    },
    {
      "cell_type": "code",
      "source": [
        "x_train = tf.pad(x_train, [[0, 0], [2,2], [2,2]])/255\n",
        "x_test = tf.pad(x_test, [[0, 0], [2,2], [2,2]])/255\n",
        "x_train.shape"
      ],
      "metadata": {
        "colab": {
          "base_uri": "https://localhost:8080/"
        },
        "id": "UEyVcx_lWhZk",
        "outputId": "14b5ff1f-910d-4211-ab8b-0ce55b0ebb2a"
      },
      "execution_count": null,
      "outputs": [
        {
          "output_type": "execute_result",
          "data": {
            "text/plain": [
              "TensorShape([60000, 32, 32])"
            ]
          },
          "metadata": {},
          "execution_count": 16
        }
      ]
    },
    {
      "cell_type": "code",
      "source": [
        "x_train = tf.expand_dims(x_train, axis=3, name=None)\n",
        "x_test = tf.expand_dims(x_test, axis=3, name=None)\n",
        "x_train.shape"
      ],
      "metadata": {
        "colab": {
          "base_uri": "https://localhost:8080/"
        },
        "id": "BzHFrneMvuUQ",
        "outputId": "ff17e591-3db3-4251-f175-0ac90951f7ba"
      },
      "execution_count": null,
      "outputs": [
        {
          "output_type": "execute_result",
          "data": {
            "text/plain": [
              "TensorShape([60000, 32, 32, 1])"
            ]
          },
          "metadata": {},
          "execution_count": 17
        }
      ]
    },
    {
      "cell_type": "code",
      "source": [
        "x_val = x_train[-2000:,:,:,:] \n",
        "y_val = y_train[-2000:] \n",
        "x_train = x_train[:-2000,:,:,:] \n",
        "y_train = y_train[:-2000]"
      ],
      "metadata": {
        "id": "Ee_zOMr7Wl5D"
      },
      "execution_count": null,
      "outputs": []
    },
    {
      "cell_type": "code",
      "source": [
        "model = models.Sequential()\n",
        "model.add(layers.Conv2D(6, 5, activation='tanh', input_shape=x_train.shape[1:]))\n",
        "model.add(layers.AveragePooling2D(2))\n",
        "model.add(layers.Activation('sigmoid'))\n",
        "model.add(layers.Conv2D(16, 5, activation='tanh'))\n",
        "model.add(layers.AveragePooling2D(2))\n",
        "model.add(layers.Activation('sigmoid'))\n",
        "model.add(layers.Conv2D(120, 5, activation='tanh'))\n",
        "model.add(layers.Flatten())\n",
        "model.add(layers.Dense(84, activation='tanh'))\n",
        "model.add(layers.Dense(10, activation='softmax'))\n",
        "model.summary()"
      ],
      "metadata": {
        "colab": {
          "base_uri": "https://localhost:8080/"
        },
        "id": "iebSwtbsWur3",
        "outputId": "0a926191-7e53-4385-82c7-0273c8cb589d"
      },
      "execution_count": null,
      "outputs": [
        {
          "output_type": "stream",
          "name": "stdout",
          "text": [
            "Model: \"sequential_1\"\n",
            "_________________________________________________________________\n",
            " Layer (type)                Output Shape              Param #   \n",
            "=================================================================\n",
            " conv2d_3 (Conv2D)           (None, 28, 28, 6)         156       \n",
            "                                                                 \n",
            " average_pooling2d_2 (Averag  (None, 14, 14, 6)        0         \n",
            " ePooling2D)                                                     \n",
            "                                                                 \n",
            " activation_2 (Activation)   (None, 14, 14, 6)         0         \n",
            "                                                                 \n",
            " conv2d_4 (Conv2D)           (None, 10, 10, 16)        2416      \n",
            "                                                                 \n",
            " average_pooling2d_3 (Averag  (None, 5, 5, 16)         0         \n",
            " ePooling2D)                                                     \n",
            "                                                                 \n",
            " activation_3 (Activation)   (None, 5, 5, 16)          0         \n",
            "                                                                 \n",
            " conv2d_5 (Conv2D)           (None, 1, 1, 120)         48120     \n",
            "                                                                 \n",
            " flatten_1 (Flatten)         (None, 120)               0         \n",
            "                                                                 \n",
            " dense_2 (Dense)             (None, 84)                10164     \n",
            "                                                                 \n",
            " dense_3 (Dense)             (None, 10)                850       \n",
            "                                                                 \n",
            "=================================================================\n",
            "Total params: 61,706\n",
            "Trainable params: 61,706\n",
            "Non-trainable params: 0\n",
            "_________________________________________________________________\n"
          ]
        }
      ]
    },
    {
      "cell_type": "code",
      "source": [
        "model.compile(optimizer='adam', loss=losses.sparse_categorical_crossentropy, metrics=['accuracy'])"
      ],
      "metadata": {
        "id": "mllAh_cGW05p"
      },
      "execution_count": null,
      "outputs": []
    },
    {
      "cell_type": "code",
      "source": [
        "history = model.fit(x_train, y_train, batch_size=64, epochs=40, validation_data=(x_val, y_val))"
      ],
      "metadata": {
        "colab": {
          "base_uri": "https://localhost:8080/"
        },
        "id": "UVXTiLy_YFOB",
        "outputId": "44e93c57-4013-4005-c43a-ea776511a79e"
      },
      "execution_count": null,
      "outputs": [
        {
          "output_type": "stream",
          "name": "stdout",
          "text": [
            "Epoch 1/40\n",
            "907/907 [==============================] - 45s 49ms/step - loss: 1.0969 - accuracy: 0.6139 - val_loss: 0.2901 - val_accuracy: 0.9150\n",
            "Epoch 2/40\n",
            "907/907 [==============================] - 35s 39ms/step - loss: 0.3323 - accuracy: 0.8950 - val_loss: 0.1813 - val_accuracy: 0.9450\n",
            "Epoch 3/40\n",
            "907/907 [==============================] - 35s 39ms/step - loss: 0.2537 - accuracy: 0.9195 - val_loss: 0.1295 - val_accuracy: 0.9650\n",
            "Epoch 4/40\n",
            "907/907 [==============================] - 37s 41ms/step - loss: 0.2103 - accuracy: 0.9339 - val_loss: 0.1299 - val_accuracy: 0.9660\n",
            "Epoch 5/40\n",
            "907/907 [==============================] - 35s 39ms/step - loss: 0.1752 - accuracy: 0.9431 - val_loss: 0.1181 - val_accuracy: 0.9695\n",
            "Epoch 6/40\n",
            "907/907 [==============================] - 35s 39ms/step - loss: 0.1540 - accuracy: 0.9506 - val_loss: 0.1012 - val_accuracy: 0.9725\n",
            "Epoch 7/40\n",
            "907/907 [==============================] - 35s 38ms/step - loss: 0.1373 - accuracy: 0.9567 - val_loss: 0.1178 - val_accuracy: 0.9680\n",
            "Epoch 8/40\n",
            "907/907 [==============================] - 35s 39ms/step - loss: 0.1277 - accuracy: 0.9598 - val_loss: 0.0933 - val_accuracy: 0.9780\n",
            "Epoch 9/40\n",
            "907/907 [==============================] - 35s 39ms/step - loss: 0.1167 - accuracy: 0.9627 - val_loss: 0.0725 - val_accuracy: 0.9830\n",
            "Epoch 10/40\n",
            "907/907 [==============================] - 36s 39ms/step - loss: 0.1055 - accuracy: 0.9665 - val_loss: 0.0795 - val_accuracy: 0.9815\n",
            "Epoch 11/40\n",
            "907/907 [==============================] - 35s 39ms/step - loss: 0.0998 - accuracy: 0.9685 - val_loss: 0.0785 - val_accuracy: 0.9790\n",
            "Epoch 12/40\n",
            "907/907 [==============================] - 35s 38ms/step - loss: 0.0925 - accuracy: 0.9704 - val_loss: 0.0678 - val_accuracy: 0.9840\n",
            "Epoch 13/40\n",
            "907/907 [==============================] - 36s 40ms/step - loss: 0.0880 - accuracy: 0.9722 - val_loss: 0.0708 - val_accuracy: 0.9825\n",
            "Epoch 14/40\n",
            "907/907 [==============================] - 35s 39ms/step - loss: 0.0830 - accuracy: 0.9739 - val_loss: 0.0880 - val_accuracy: 0.9800\n",
            "Epoch 15/40\n",
            "907/907 [==============================] - 37s 40ms/step - loss: 0.0791 - accuracy: 0.9749 - val_loss: 0.0795 - val_accuracy: 0.9760\n",
            "Epoch 16/40\n",
            "907/907 [==============================] - 36s 39ms/step - loss: 0.0774 - accuracy: 0.9751 - val_loss: 0.0923 - val_accuracy: 0.9770\n",
            "Epoch 17/40\n",
            "907/907 [==============================] - 35s 39ms/step - loss: 0.0735 - accuracy: 0.9759 - val_loss: 0.0667 - val_accuracy: 0.9845\n",
            "Epoch 18/40\n",
            "907/907 [==============================] - 36s 40ms/step - loss: 0.0724 - accuracy: 0.9769 - val_loss: 0.0799 - val_accuracy: 0.9765\n",
            "Epoch 19/40\n",
            "907/907 [==============================] - 35s 38ms/step - loss: 0.0695 - accuracy: 0.9779 - val_loss: 0.0724 - val_accuracy: 0.9830\n",
            "Epoch 20/40\n",
            "907/907 [==============================] - 36s 39ms/step - loss: 0.0648 - accuracy: 0.9791 - val_loss: 0.0550 - val_accuracy: 0.9880\n",
            "Epoch 21/40\n",
            "907/907 [==============================] - 35s 38ms/step - loss: 0.0633 - accuracy: 0.9792 - val_loss: 0.0707 - val_accuracy: 0.9790\n",
            "Epoch 22/40\n",
            "907/907 [==============================] - 35s 39ms/step - loss: 0.0627 - accuracy: 0.9798 - val_loss: 0.0685 - val_accuracy: 0.9820\n",
            "Epoch 23/40\n",
            "907/907 [==============================] - 34s 38ms/step - loss: 0.0588 - accuracy: 0.9814 - val_loss: 0.0506 - val_accuracy: 0.9905\n",
            "Epoch 24/40\n",
            "907/907 [==============================] - 35s 38ms/step - loss: 0.0585 - accuracy: 0.9812 - val_loss: 0.0651 - val_accuracy: 0.9835\n",
            "Epoch 25/40\n",
            "907/907 [==============================] - 35s 39ms/step - loss: 0.0552 - accuracy: 0.9822 - val_loss: 0.0513 - val_accuracy: 0.9870\n",
            "Epoch 26/40\n",
            "907/907 [==============================] - 35s 38ms/step - loss: 0.0551 - accuracy: 0.9825 - val_loss: 0.0645 - val_accuracy: 0.9835\n",
            "Epoch 27/40\n",
            "907/907 [==============================] - 35s 38ms/step - loss: 0.0530 - accuracy: 0.9826 - val_loss: 0.0522 - val_accuracy: 0.9890\n",
            "Epoch 28/40\n",
            "907/907 [==============================] - 35s 38ms/step - loss: 0.0514 - accuracy: 0.9834 - val_loss: 0.0492 - val_accuracy: 0.9870\n",
            "Epoch 29/40\n",
            "907/907 [==============================] - 35s 39ms/step - loss: 0.0517 - accuracy: 0.9832 - val_loss: 0.0590 - val_accuracy: 0.9820\n",
            "Epoch 30/40\n",
            "907/907 [==============================] - 35s 39ms/step - loss: 0.0505 - accuracy: 0.9834 - val_loss: 0.0509 - val_accuracy: 0.9885\n",
            "Epoch 31/40\n",
            "907/907 [==============================] - 32s 36ms/step - loss: 0.0469 - accuracy: 0.9849 - val_loss: 0.0607 - val_accuracy: 0.9845\n",
            "Epoch 32/40\n",
            "907/907 [==============================] - 34s 38ms/step - loss: 0.0453 - accuracy: 0.9851 - val_loss: 0.0460 - val_accuracy: 0.9905\n",
            "Epoch 33/40\n",
            "907/907 [==============================] - 35s 39ms/step - loss: 0.0470 - accuracy: 0.9845 - val_loss: 0.0531 - val_accuracy: 0.9850\n",
            "Epoch 34/40\n",
            "907/907 [==============================] - 35s 39ms/step - loss: 0.0438 - accuracy: 0.9857 - val_loss: 0.0513 - val_accuracy: 0.9875\n",
            "Epoch 35/40\n",
            "907/907 [==============================] - 36s 39ms/step - loss: 0.0483 - accuracy: 0.9843 - val_loss: 0.0501 - val_accuracy: 0.9875\n",
            "Epoch 36/40\n",
            "907/907 [==============================] - 35s 38ms/step - loss: 0.0429 - accuracy: 0.9858 - val_loss: 0.0750 - val_accuracy: 0.9820\n",
            "Epoch 37/40\n",
            "907/907 [==============================] - 36s 39ms/step - loss: 0.0419 - accuracy: 0.9861 - val_loss: 0.0464 - val_accuracy: 0.9890\n",
            "Epoch 38/40\n",
            "907/907 [==============================] - 35s 38ms/step - loss: 0.0416 - accuracy: 0.9863 - val_loss: 0.0539 - val_accuracy: 0.9880\n",
            "Epoch 39/40\n",
            "907/907 [==============================] - 38s 42ms/step - loss: 0.0392 - accuracy: 0.9875 - val_loss: 0.0486 - val_accuracy: 0.9895\n",
            "Epoch 40/40\n",
            "907/907 [==============================] - 35s 38ms/step - loss: 0.0413 - accuracy: 0.9862 - val_loss: 0.0456 - val_accuracy: 0.9880\n"
          ]
        }
      ]
    },
    {
      "cell_type": "code",
      "source": [
        "fig, axs = plt.subplots(2, 1, figsize=(15,15))\n",
        "\n",
        "axs[0].plot(history.history['loss']) \n",
        "axs[0].plot(history.history['val_loss']) \n",
        "axs[0].title.set_text('Training Loss vs Validation Loss') \n",
        "axs[0].legend(['Train', 'Val']) \n",
        "\n",
        "axs[1].plot(history.history['accuracy']) \n",
        "axs[1].plot(history.history['val_accuracy']) \n",
        "axs[1].title.set_text('Training Accuracy vs Validation Accuracy') \n",
        "axs[1].legend(['Train', 'Val'])"
      ],
      "metadata": {
        "colab": {
          "base_uri": "https://localhost:8080/",
          "height": 896
        },
        "id": "RIcA4Gi9YIy2",
        "outputId": "a6d4d16a-1f5d-4956-9517-5d83c6b47edb"
      },
      "execution_count": null,
      "outputs": [
        {
          "output_type": "execute_result",
          "data": {
            "text/plain": [
              "<matplotlib.legend.Legend at 0x7fad482b4d50>"
            ]
          },
          "metadata": {},
          "execution_count": 22
        },
        {
          "output_type": "display_data",
          "data": {
            "text/plain": [
              "<Figure size 1080x1080 with 2 Axes>"
            ],
            "image/png": "[encoded data removed]"
          },
          "metadata": {
            "needs_background": "light"
          }
        }
      ]
    },
    {
      "cell_type": "code",
      "source": [
        "model.evaluate(x_test, y_test)"
      ],
      "metadata": {
        "colab": {
          "base_uri": "https://localhost:8080/"
        },
        "id": "C1JpydA4YL9d",
        "outputId": "89a252fd-1ebd-44f7-8e64-23fc6b576664"
      },
      "execution_count": null,
      "outputs": [
        {
          "output_type": "stream",
          "name": "stdout",
          "text": [
            "313/313 [==============================] - 3s 9ms/step - loss: 0.0535 - accuracy: 0.9829\n"
          ]
        },
        {
          "output_type": "execute_result",
          "data": {
            "text/plain": [
              "[0.05353131145238876, 0.9829000234603882]"
            ]
          },
          "metadata": {},
          "execution_count": 23
        }
      ]
    }
  ]
}