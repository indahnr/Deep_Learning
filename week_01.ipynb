{
  "nbformat": 4,
  "nbformat_minor": 0,
  "metadata": {
    "colab": {
      "name": "week_01.ipynb",
      "provenance": [],
      "include_colab_link": true
    },
    "kernelspec": {
      "name": "python3",
      "display_name": "Python 3"
    },
    "language_info": {
      "name": "python"
    }
  },
  "cells": [
    {
      "cell_type": "markdown",
      "metadata": {
        "id": "view-in-github",
        "colab_type": "text"
      },
      "source": [
        "<a href=\"https://colab.research.google.com/github/indahnr/Deep_Learning/blob/main/week_01.ipynb\" target=\"_parent\"><img src=\"https://colab.research.google.com/assets/colab-badge.svg\" alt=\"Open In Colab\"/></a>"
      ]
    },
    {
      "cell_type": "markdown",
      "source": [
        "# Latihan pertama"
      ],
      "metadata": {
        "id": "9SzY1kcYyhtR"
      }
    },
    {
      "cell_type": "code",
      "source": [
        "9print('Assalamualaikum')\n",
        "print('Halo Nama Saya Indah Nurawaliah')\n",
        "print('________________________')\n",
        "print('Comtoh Seleksi Kelulusan')\n",
        "siswa = input('Nama Siswa:')\n",
        "nilai = int(input('Nilai Siswa:'))\n",
        "if nilai > 70:\n",
        "  print(siswa, 'Dinyatakan Lulus')\n",
        "elif nilai == 70:\n",
        "  print(siswa,'akan diberikan kelas tambahan sebelum dinyatakan lulus')\n",
        "else:\n",
        "  print(siswa,'Dinyatakan tidak lulus')"
      ],
      "metadata": {
        "colab": {
          "base_uri": "https://localhost:8080/"
        },
        "id": "AVXmchzIyo0O",
        "outputId": "b3c4f3fe-0ea9-4697-a80c-392e13449409"
      },
      "execution_count": 1,
      "outputs": [
        {
          "output_type": "stream",
          "name": "stdout",
          "text": [
            "Assalamualaikum\n",
            "Halo Nama Saya Indah Nurawaliah\n",
            "________________________\n",
            "Comtoh Seleksi Kelulusan\n",
            "Nama Siswa:indah\n",
            "Nilai Siswa:99\n",
            "indah Dinyatakan Lulus\n"
          ]
        }
      ]
    }
  ]
}