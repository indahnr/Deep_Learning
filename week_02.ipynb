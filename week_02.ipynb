{
  "nbformat": 4,
  "nbformat_minor": 0,
  "metadata": {
    "colab": {
      "name": "week_02.ipynb",
      "provenance": [],
      "authorship_tag": "ABX9TyNtlxuoypsFcp2Snq8TbORR",
      "include_colab_link": true
    },
    "kernelspec": {
      "name": "python3",
      "display_name": "Python 3"
    },
    "language_info": {
      "name": "python"
    }
  },
  "cells": [
    {
      "cell_type": "markdown",
      "metadata": {
        "id": "view-in-github",
        "colab_type": "text"
      },
      "source": [
        "<a href=\"https://colab.research.google.com/github/indahnr/Deep_Learning/blob/main/week_02.ipynb\" target=\"_parent\"><img src=\"https://colab.research.google.com/assets/colab-badge.svg\" alt=\"Open In Colab\"/></a>"
      ]
    },
    {
      "cell_type": "code",
      "execution_count": 1,
      "metadata": {
        "colab": {
          "base_uri": "https://localhost:8080/"
        },
        "id": "9Ze7czocwZqW",
        "outputId": "ccf2ca88-0ba4-4af2-ebf9-448f6f543e16"
      },
      "outputs": [
        {
          "output_type": "stream",
          "name": "stdout",
          "text": [
            "[0.95 0.6 ]\n",
            "[0.72111518 0.64565631]\n",
            "0.3227832766462464\n",
            "0.23788140229164573\n"
          ]
        }
      ],
      "source": [
        "X = [1, 2, 0.5]\n",
        "W = [[0.2, 0.3],\n",
        "    [0.3, 0.1],\n",
        "    [0.3, 0.2]]\n",
        "b = [0, 0]\n",
        "T = [0, 1]\n",
        "\n",
        "import numpy as np\n",
        "\n",
        "Z = np.dot(X, W) + b\n",
        "print(Z)\n",
        "\n",
        "def sigmoid(n):\n",
        "     return 1 / (1 + np.exp(-n))\n",
        "\n",
        "Y = sigmoid(Z)\n",
        "print(Y)\n",
        "\n",
        "E = 1/2 * sum((T-Y)**2)\n",
        "print(E)\n",
        "\n",
        "alpha = 0.5\n",
        "for c in range(2): #neuron output\n",
        "    for r in range(3): #neuron input\n",
        "        #menghitung turunan\n",
        "        delta = -1 * (T[c] - Y[c]) * Y[c] * (1 - Y[c]) * X[r]\n",
        "        # update bobot\n",
        "        W[r][c] = W[r][c] - alpha * delta\n",
        "alpha = 0.5\n",
        "for c in range(2): \n",
        "    delta = -1 * (T[c] - Y[c]) * Y[c] * (1 - Y[c]) * 1\n",
        "    b[c] = b[c] - alpha * delta\n",
        "\n",
        "Z = np.dot(X, W) + b\n",
        "Y = sigmoid(Z)\n",
        "E = 1/2 * sum((T-Y)**2)\n",
        "print(E)"
      ]
    }
  ]
}